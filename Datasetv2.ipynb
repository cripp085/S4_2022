{
 "cells": [
  {
   "cell_type": "markdown",
   "id": "e141e5ff-f69d-4563-a556-ce1e746aef14",
   "metadata": {},
   "source": [
    "# Exloring datasets for University of Ottawa\n",
    "\n",
    "<div style='background:#e7edf7'>\n",
    "    Query the OpenAlex API to answer the question:\n",
    "    <blockquote>\n",
    "        <b><i>How datasets from University of Ottawa have been published in recent years? How many are Open Access according to OpenAlex?</i></b>\n",
    "    </blockquote>\n",
    "   </div>\n",
    "<br>\n",
    "\n",
    "Let's start by dividing the process into smaller, more manageable steps:\n",
    "1. First we need to get all recent datasets from University of Ottawa.\n",
    "2. How many are \"open\" according to OpenAlex?\n",
    "3. Finally we count the datasets in each category.\n",
    "4. Additionally we can put the numbers into a plot to visualize our findings.\n",
    "\n",
    "---"
   ]
  },
  {
   "cell_type": "code",
   "execution_count": 2,
   "id": "47cb5f27",
   "metadata": {},
   "outputs": [],
   "source": [
    "import pandas as pd\n",
    "import numpy as np\n",
    "import requests    # module for executing API calls"
   ]
  },
  {
   "cell_type": "markdown",
   "id": "f7216c04-3575-4d14-a4ed-5bb66401f5e4",
   "metadata": {},
   "source": [
    "## 1. Get all recent datasets from University of Ottawa.\n",
    "\n",
    " --> We want to query for \"_all recent datasets from University of Ottawa_\", so we will filter for the works that:\n",
    "    * were published in the last 10 years (=recent):  \n",
    "    `from_publication_date:2012-08-01`\n",
    "    * are specified as datasets:   \n",
    "    `type:Dataset`,\n",
    "    * have at least one [authorship](https://docs.openalex.org/about-the-data/work#authorships) affiliation with University of Ottawa:  \n",
    "   `institutions.ror:https://ror.org/03c4mmv16`,\n",
    "    * are not [paratext](https://docs.openalex.org/about-the-data/work#is_paratext):  \n",
    "   `is_paratext:false`,\n",
    "\n",
    "Now we need to put the URL together from these parts as follows:  \n",
    "* Starting with the base URL \"`https://api.openalex.org/`\", we add the entity type to it : \"`https://api.openalex.org/institution`\"\n",
    "* All criteria need to go into the query parameter `filter` that is added after a question mark: \"`https://api.openalex.org/works?filter=`\"\n",
    "* Finally we take the criteria we specified before and concatenate them using commas as separators. This will be our `filter` value: \"`https://api.openalex.org/works?filter=institutions.ror:https://ror.org/03c4mmv16,type:Dataset,from_publication_date:2012-07-20,is_paratext:false`\"\n",
    "\n",
    "With this URL we can get all recent datasets from University of Ottawa!"
   ]
  },
  {
   "cell_type": "code",
   "execution_count": 3,
   "id": "98345207-4fa0-4799-ba03-5179491adbda",
   "metadata": {},
   "outputs": [
    {
     "name": "stdout",
     "output_type": "stream",
     "text": [
      "filter query parameter:\n",
      "  filter=institutions.ror:https://ror.org/03c4mmv16,is_paratext:false,type:Dataset,from_publication_date:2012-07-20\n",
      "complete URL:\n",
      "  https://api.openalex.org/works?filter=institutions.ror:https://ror.org/03c4mmv16,is_paratext:false,type:Dataset,from_publication_date:2012-07-20 ...\n"
     ]
    }
   ],
   "source": [
    "# build the 'filter' parameter\n",
    "filter_by_institution_id = 'institutions.ror:https://ror.org/03c4mmv16'\n",
    "filter_by_paratext = 'is_paratext:false'\n",
    "filter_by_type = 'type:Dataset'\n",
    "filter_by_publication_date = 'from_publication_date:2012-07-20'\n",
    "\n",
    "all_filters = (filter_by_institution_id, filter_by_paratext, filter_by_type, filter_by_publication_date)\n",
    "filter_param = f'filter={\",\".join(all_filters)}'\n",
    "print(f'filter query parameter:\\n  {filter_param}')\n",
    "\n",
    "# put the URL together\n",
    "filtered_works_url = f'https://api.openalex.org/works?{filter_param}'\n",
    "print(f'complete URL:\\n  {filtered_works_url} ...')"
   ]
  },
  {
   "cell_type": "code",
   "execution_count": 9,
   "id": "33f0fabb",
   "metadata": {},
   "outputs": [
    {
     "name": "stdout",
     "output_type": "stream",
     "text": [
      "132\n"
     ]
    }
   ],
   "source": [
    "response_meta = requests.get(\n",
    "    'https://api.openalex.org/works?filter=institutions.ror:https://ror.org/03c4mmv16,is_paratext:false,type:Dataset,from_publication_date:2012-07-20'\n",
    ").json()['meta']\n",
    "\n",
    "print(response_meta['count'])"
   ]
  },
  {
   "cell_type": "markdown",
   "id": "58b725da-3088-4e5b-b69a-2b3c18487956",
   "metadata": {},
   "source": [
    "## 2. Where are datasets being published?\n",
    "The host_venue is important because it describes where you can find the \"best\" (closest to the version of record) copy of this work. A sub property of host_venue is publisher (there is a sub property of venue as type (e.g. repository, publisher), but it does not seem to be a group_by property. Let's see what we get when we further filter our data by host_venue.publisher\n"
   ]
  },
  {
   "cell_type": "code",
   "execution_count": 10,
   "id": "bc0569ad-cd73-460e-8472-27d92c310ff6",
   "metadata": {},
   "outputs": [
    {
     "name": "stdout",
     "output_type": "stream",
     "text": [
      "complete URL with group_by:\n",
      "  https://api.openalex.org/works?filter=institutions.ror:https://ror.org/03c4mmv16,is_paratext:false,type:Dataset,from_publication_date:2012-07-20&group_by=host_venue.publisher\n"
     ]
    }
   ],
   "source": [
    "group_by_param = 'group_by=host_venue.publisher'\n",
    "\n",
    "work_groups_url = f'{filtered_works_url}&{group_by_param}'\n",
    "print(f'complete URL with group_by:\\n  {work_groups_url}')"
   ]
  },
  {
   "cell_type": "code",
   "execution_count": 12,
   "id": "bcd271f6",
   "metadata": {},
   "outputs": [
    {
     "name": "stdout",
     "output_type": "stream",
     "text": [
      "2\n"
     ]
    }
   ],
   "source": [
    "response_meta = requests.get(\n",
    "    'https://api.openalex.org/works?filter=institutions.ror:https://ror.org/03c4mmv16,is_paratext:false,type:Dataset,from_publication_date:2012-07-20&group_by=host_venue.publisher'\n",
    ").json()['meta']\n",
    "\n",
    "print(response_meta['count'])\n",
    "##When you run the query, the results returned is 2. So am I to understand this as there are only publishers for UofO data?"
   ]
  },
  {
   "cell_type": "markdown",
   "id": "bc97ecd0-2605-4702-b48b-c83d9d090a95",
   "metadata": {},
   "source": [
    "## 3. Let's try to group by \"licence\".\n",
    "\n",
    "FAIR data are data which meet principles of findability, accessibility, interoperability, and reusability. One of the guiding principles notes that data should be released with a clear and accessible data usage license.  The alternate host venue has the element \"licence\" so let's see what we get. \n"
   ]
  },
  {
   "cell_type": "code",
   "execution_count": 13,
   "id": "73195c9a",
   "metadata": {},
   "outputs": [
    {
     "name": "stdout",
     "output_type": "stream",
     "text": [
      "complete URL with group_by:\n",
      "  https://api.openalex.org/works?filter=institutions.ror:https://ror.org/03c4mmv16,is_paratext:false,type:Dataset,from_publication_date:2012-07-20&group_by=alternate_host_venues.license\n"
     ]
    }
   ],
   "source": [
    "group_by_param = 'group_by=alternate_host_venues.license'\n",
    "\n",
    "work_groups_url = f'{filtered_works_url}&{group_by_param}'\n",
    "print(f'complete URL with group_by:\\n  {work_groups_url}')"
   ]
  },
  {
   "cell_type": "code",
   "execution_count": 14,
   "id": "8bfa2303",
   "metadata": {},
   "outputs": [
    {
     "name": "stdout",
     "output_type": "stream",
     "text": [
      "3\n"
     ]
    }
   ],
   "source": [
    "response_meta = requests.get(\n",
    "    'https://api.openalex.org/works?filter=institutions.ror:https://ror.org/03c4mmv16,is_paratext:false,type:Dataset,from_publication_date:2012-07-20&group_by=alternate_host_venues.license'\n",
    ").json()['meta']\n",
    "\n",
    "print(response_meta['count'])"
   ]
  },
  {
   "cell_type": "code",
   "execution_count": 15,
   "id": "a7768120-47af-4a3a-bfda-f5cd7fed3046",
   "metadata": {
    "scrolled": true
   },
   "outputs": [
    {
     "name": "stdout",
     "output_type": "stream",
     "text": [
      "[\n",
      "  {\n",
      "    \"key\": \"unknown\",\n",
      "    \"key_display_name\": \"unknown\",\n",
      "    \"count\": 130\n",
      "  },\n",
      "  {\n",
      "    \"key\": \"cc-by\",\n",
      "    \"key_display_name\": \"cc-by\",\n",
      "    \"count\": 1\n",
      "  },\n",
      "  {\n",
      "    \"key\": \"cc-by-nc-sa\",\n",
      "    \"key_display_name\": \"cc-by-nc-sa\",\n",
      "    \"count\": 1\n",
      "  }\n",
      "]\n"
     ]
    }
   ],
   "source": [
    "import requests, json\n",
    "response = requests.get(work_groups_url)\n",
    "work_groups = response.json()['group_by']\n",
    "print(json.dumps(work_groups, indent=2))"
   ]
  },
  {
   "cell_type": "markdown",
   "id": "bc2c5548",
   "metadata": {},
   "source": [
    "So of the 132 datasets, apparently only two have licences. How to display the Pandas DataFrame in table style so as to see what the 130 results are?"
   ]
  },
  {
   "cell_type": "markdown",
   "id": "ead1c279-ffd5-41bf-bd66-dd1cf9f8b3ce",
   "metadata": {},
   "source": [
    "## 4. Plot the data (optional).\n",
    "Last but not least we can put the data into a visually appealing plot. How about a donut plot?"
   ]
  }
 ],
 "metadata": {
  "kernelspec": {
   "display_name": "Python 3 (ipykernel)",
   "language": "python",
   "name": "python3"
  },
  "language_info": {
   "codemirror_mode": {
    "name": "ipython",
    "version": 3
   },
   "file_extension": ".py",
   "mimetype": "text/x-python",
   "name": "python",
   "nbconvert_exporter": "python",
   "pygments_lexer": "ipython3",
   "version": "3.9.12"
  },
  "latex_envs": {
   "LaTeX_envs_menu_present": true,
   "autoclose": false,
   "autocomplete": true,
   "bibliofile": "biblio.bib",
   "cite_by": "apalike",
   "current_citInitial": 1,
   "eqLabelWithNumbers": true,
   "eqNumInitial": 1,
   "hotkeys": {
    "equation": "Ctrl-E",
    "itemize": "Ctrl-I"
   },
   "labels_anchors": false,
   "latex_user_defs": false,
   "report_style_numbering": false,
   "user_envs_cfg": false
  },
  "toc": {
   "base_numbering": 1,
   "nav_menu": {},
   "number_sections": true,
   "sideBar": true,
   "skip_h1_title": false,
   "title_cell": "Table of Contents",
   "title_sidebar": "Contents",
   "toc_cell": false,
   "toc_position": {},
   "toc_section_display": true,
   "toc_window_display": false
  }
 },
 "nbformat": 4,
 "nbformat_minor": 5
}
