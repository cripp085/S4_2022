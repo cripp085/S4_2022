{
 "cells": [
  {
   "cell_type": "markdown",
   "id": "e141e5ff-f69d-4563-a556-ce1e746aef14",
   "metadata": {},
   "source": [
    "# Exloring datasets for University of Ottawa using OpenAlex\n",
    "\n",
    "Chantal Ripp, University of Ottawa & Eric Schares, Iowa State University"
    "<div style='background:#e7edf7'>\n",
    "    Query the OpenAlex API to answer the question:\n",
    "    <blockquote>\n",
    "        <b><i>How many datasets from University of Ottawa have been published in recent years? How many are \"open\" according to OpenAlex?</i></b>\n",
    "    </blockquote>\n",
    "   </div>\n",
    "<br>\n",
    "**Context**\n",
    "\n",
    "Increasingly, there is a push to recognize research data as valid research outputs. In Canada, the Canadian Institutes of Health Research (CIHR), the Natural Sciences and Engineering Research Council of Canada (NSERC), and the Social Sciences and Humanities Research Council of Canada (SSHRC) (the agencies), released in 2021 *the Tri-Agency Research Data Management Policy*. The policy objective requires that \"grant recipients deposit into a digital repository all digital research data, metadata and code that directly support the research conclusions in journal publications and pre-prints that arise from agency-supported research\" (obj 3).\n",
    "\n",
    "This notebook aims to explore OpenAlex as a suitable data source to track published datasets. OpenAlex aggregates and standardizes data from numerous sources, including MAG, CrossRef and Subject-area and institutional repositories (e.g. Zenodo).\n",
    "\n",
    "There are various registration agencies for the persistent identifier DOI. Crossref registers scholarly and professional research content, such as journal articles, books, conference proceedings, etc.  DataCite is also an organization that provides DOIs for research data and all other research outputs.    Therefore, throughout this notebook, we will compare our results pulled from the OpenAlex API to those availale from Datacite Commons (https://commons.datacite.org/), a web search interface for the PID Graph. Querying the DataCite's APIs is out of scope for this notebook.  "
   ]
  },
  {
   "cell_type": "markdown",
   "id": "8c9a27a2",
   "metadata": {},
   "source": [
    "## 1. Imports"
   ]
  },
  {
   "cell_type": "code",
   "execution_count": 8,
   "id": "6338bcaa",
   "metadata": {},
   "outputs": [],
   "source": [
    "import pandas as pd\n",
    "import requests\n",
    "import numpy as np\n",
    "import plotly.express as px\n",
    "from matplotlib import pyplot as plt"
   ]
  },
  {
   "cell_type": "markdown",
   "id": "f7216c04-3575-4d14-a4ed-5bb66401f5e4",
   "metadata": {},
   "source": [
    "## 2. Get all recent datasets from University of Ottawa.\n",
    "\n",
    " --> We want to query for \"_all recent datasets from University of Ottawa_\", so we will filter for the works that:\n",
    "    * were published in the last 12 years (=recent):  \n",
    "    `from_publication_date:2011-01-01`\n",
    "    * are specified as datasets (Crossref type includes Dataset):   \n",
    "    `type:Dataset`,\n",
    "    * have at least one [authorship](https://docs.openalex.org/about-the-data/work#authorships) affiliation with University of Ottawa:  \n",
    "   `institutions.ror:https://ror.org/03c4mmv16`,\n",
    "    * are not [paratext](https://docs.openalex.org/about-the-data/work#is_paratext):  \n",
    "   `is_paratext:false`,\n",
    "\n",
    "Now we need to put the URL together from these parts as follows:  \n",
    "* Starting with the base URL \"`https://api.openalex.org/`\", we add the entity type to it : \"`https://api.openalex.org/institution`\"\n",
    "* All criteria need to go into the query parameter `filter` that is added after a question mark: \"`https://api.openalex.org/works?filter=`\"\n",
    "* Finally we take the criteria we specified before and concatenate them using commas as separators. This will be our `filter` value: \"`https://api.openalex.org/works?filter=institutions.ror:https://ror.org/03c4mmv16,type:Dataset,from_publication_date:2012-07-20,is_paratext:false`\"\n",
    "\n",
    "With this URL we can get all recent datasets from University of Ottawa!"
   ]
  },
  {
   "cell_type": "code",
   "execution_count": 9,
   "id": "98345207-4fa0-4799-ba03-5179491adbda",
   "metadata": {},
   "outputs": [
    {
     "name": "stdout",
     "output_type": "stream",
     "text": [
      "filter query parameter:\n",
      "  filter=institutions.ror:https://ror.org/03c4mmv16,is_paratext:false,type:Dataset,from_publication_date:2011-01-01\n",
      "complete URL:\n",
      "  https://api.openalex.org/works?filter=institutions.ror:https://ror.org/03c4mmv16,is_paratext:false,type:Dataset,from_publication_date:2011-01-01 ...\n"
     ]
    }
   ],
   "source": [
    "# build the 'filter' parameter\n",
    "filter_by_institution_id = 'institutions.ror:https://ror.org/03c4mmv16'\n",
    "filter_by_paratext = 'is_paratext:false'\n",
    "filter_by_type = 'type:Dataset'\n",
    "filter_by_publication_date = 'from_publication_date:2011-01-01'\n",
    "\n",
    "all_filters = (filter_by_institution_id, filter_by_paratext, filter_by_type, filter_by_publication_date)\n",
    "filter_param = f'filter={\",\".join(all_filters)}'\n",
    "print(f'filter query parameter:\\n  {filter_param}')\n",
    "\n",
    "# put the URL together\n",
    "filtered_works_url = f'https://api.openalex.org/works?{filter_param}'\n",
    "print(f'complete URL:\\n  {filtered_works_url} ...')"
   ]
  },
  {
   "cell_type": "code",
   "execution_count": 10,
   "id": "fd0b3f5a",
   "metadata": {},
   "outputs": [
    {
     "name": "stdout",
     "output_type": "stream",
     "text": [
      "164\n"
     ]
    }
   ],
   "source": [
    "response_meta = requests.get(\n",
    "    'https://api.openalex.org/works?filter=institutions.ror:https://ror.org/03c4mmv16,is_paratext:false,type:Dataset,from_publication_date:2011-01-01'\n",
    ").json()['meta']\n",
    "\n",
    "print(response_meta['count'])"
   ]
  },
  {
   "attachments": {
    "visualization.png": {
     "image/png": "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"
    }
   },
   "cell_type": "markdown",
   "id": "a6e20599",
   "metadata": {},
   "source": [
    "Results returned from OpenApex API call is 164 (as of August 8, 2022).  Querying DataCite Commons, we receive 130 datasets since 2011 for University of Ottawa. \n",
    "\n",
    "**Title** \n",
    "Number of Datasets (work type) affiliated to the University of Ottawa since 2011 (Source: DataCite Commons)\n",
    "![visualization.png](attachment:visualization.png)\n",
    "\n",
    "\n",
    "Let's explore a little further!!"
   ]
  },
  {
   "cell_type": "markdown",
   "id": "58b725da-3088-4e5b-b69a-2b3c18487956",
   "metadata": {},
   "source": [
    "## 2. Where are datasets being published?\n",
    "The host_venue is important because it describes where you can find the \"best\" (closest to the version of record) copy of this work. A sub property of host_venue is publisher (there is a sub property of venue as type (e.g. repository, publisher, etc), but it is not a group_by property for /works. Let's see what we get when we further filter our data by host_venue.publisher\n"
   ]
  },
  {
   "cell_type": "code",
   "execution_count": 11,
   "id": "bc0569ad-cd73-460e-8472-27d92c310ff6",
   "metadata": {},
   "outputs": [
    {
     "name": "stdout",
     "output_type": "stream",
     "text": [
      "complete URL with group_by:\n",
      "  https://api.openalex.org/works?filter=institutions.ror:https://ror.org/03c4mmv16,is_paratext:false,type:Dataset,from_publication_date:2011-01-01&group_by=host_venue.id\n"
     ]
    }
   ],
   "source": [
    "group_by_param = 'group_by=host_venue.id'\n",
    "\n",
    "work_groups_url = f'{filtered_works_url}&{group_by_param}'\n",
    "print(f'complete URL with group_by:\\n  {work_groups_url}')"
   ]
  },
  {
   "cell_type": "code",
   "execution_count": 14,
   "id": "3c0ade8f",
   "metadata": {},
   "outputs": [
    {
     "name": "stdout",
     "output_type": "stream",
     "text": [
      "2\n"
     ]
    }
   ],
   "source": [
    "response_meta = requests.get(\n",
    "    'https://api.openalex.org/works?filter=institutions.ror:https://ror.org/03c4mmv16,is_paratext:false,type:Dataset,from_publication_date:2011-01-01&group_by=host_venue.id').json()['meta']\n",
    "\n",
    "print(response_meta['count'])\n"
   ]
  },
  {
   "cell_type": "code",
   "execution_count": 13,
   "id": "7427f143",
   "metadata": {},
   "outputs": [
    {
     "name": "stdout",
     "output_type": "stream",
     "text": [
      "[\n",
      "  {\n",
      "    \"key\": \"unknown\",\n",
      "    \"key_display_name\": \"unknown\",\n",
      "    \"count\": 163\n",
      "  },\n",
      "  {\n",
      "    \"key\": \"https://openalex.org/V21578668\",\n",
      "    \"key_display_name\": \"Western Historical Quarterly\",\n",
      "    \"count\": 1\n",
      "  }\n",
      "]\n"
     ]
    }
   ],
   "source": [
    "import requests, json\n",
    "response = requests.get(work_groups_url)\n",
    "work_groups = response.json()['group_by']\n",
    "print(json.dumps(work_groups, indent=2))"
   ]
  },
  {
   "cell_type": "markdown",
   "id": "f988b551",
   "metadata": {},
   "source": [
    "Interestingly the results return are '2', majority of which are unknown.\n",
    "\n",
    "Querying DataCite Commons, we can see that for all the results, the datasets have been published in Dryad, a data repository.  This is interesting, as anecdotally we know that data is being deposited in the institutional data repository Dataverse, which also uses Datacite as a DOI minter.  "
   ]
  },
  {
   "cell_type": "markdown",
   "id": "5423e663",
   "metadata": {},
   "source": [
    "## 3. Let's group by Publication year.\n",
    "For /works group_by attributes include publication_year"
   ]
  },
  {
   "cell_type": "code",
   "execution_count": 18,
   "id": "233af0b4",
   "metadata": {
    "scrolled": true
   },
   "outputs": [
    {
     "name": "stdout",
     "output_type": "stream",
     "text": [
      "complete URL with group_by:\n",
      "  https://api.openalex.org/works?filter=institutions.ror:https://ror.org/03c4mmv16,is_paratext:false,type:Dataset,from_publication_date:2011-01-01&group_by=publication_year\n"
     ]
    }
   ],
   "source": [
    "group_by_year = 'group_by=publication_year'\n",
    "\n",
    "work_groups_url = f'{filtered_works_url}&{group_by_year}'\n",
    "print(f'complete URL with group_by:\\n  {work_groups_url}')"
   ]
  },
  {
   "cell_type": "code",
   "execution_count": 19,
   "id": "9b85a7e9",
   "metadata": {
    "scrolled": true
   },
   "outputs": [
    {
     "name": "stdout",
     "output_type": "stream",
     "text": [
      "12\n"
     ]
    }
   ],
   "source": [
    "response_meta = requests.get(\n",
    "    'https://api.openalex.org/works?filter=institutions.ror:https://ror.org/03c4mmv16,is_paratext:false,type:Dataset,from_publication_date:2011-01-01&group_by=publication_year').json()['meta']\n",
    "\n",
    "print(response_meta['count'])"
   ]
  },
  {
   "cell_type": "code",
   "execution_count": 21,
   "id": "f6bd1178",
   "metadata": {},
   "outputs": [
    {
     "name": "stdout",
     "output_type": "stream",
     "text": [
      "[\n",
      "  {\n",
      "    \"key\": \"2013\",\n",
      "    \"key_display_name\": \"2013\",\n",
      "    \"count\": 29\n",
      "  },\n",
      "  {\n",
      "    \"key\": \"2019\",\n",
      "    \"key_display_name\": \"2019\",\n",
      "    \"count\": 28\n",
      "  },\n",
      "  {\n",
      "    \"key\": \"2012\",\n",
      "    \"key_display_name\": \"2012\",\n",
      "    \"count\": 21\n",
      "  },\n",
      "  {\n",
      "    \"key\": \"2016\",\n",
      "    \"key_display_name\": \"2016\",\n",
      "    \"count\": 21\n",
      "  },\n",
      "  {\n",
      "    \"key\": \"2011\",\n",
      "    \"key_display_name\": \"2011\",\n",
      "    \"count\": 17\n",
      "  },\n",
      "  {\n",
      "    \"key\": \"2015\",\n",
      "    \"key_display_name\": \"2015\",\n",
      "    \"count\": 16\n",
      "  },\n",
      "  {\n",
      "    \"key\": \"2014\",\n",
      "    \"key_display_name\": \"2014\",\n",
      "    \"count\": 11\n",
      "  },\n",
      "  {\n",
      "    \"key\": \"2020\",\n",
      "    \"key_display_name\": \"2020\",\n",
      "    \"count\": 7\n",
      "  },\n",
      "  {\n",
      "    \"key\": \"2017\",\n",
      "    \"key_display_name\": \"2017\",\n",
      "    \"count\": 5\n",
      "  },\n",
      "  {\n",
      "    \"key\": \"2021\",\n",
      "    \"key_display_name\": \"2021\",\n",
      "    \"count\": 4\n",
      "  },\n",
      "  {\n",
      "    \"key\": \"2022\",\n",
      "    \"key_display_name\": \"2022\",\n",
      "    \"count\": 3\n",
      "  },\n",
      "  {\n",
      "    \"key\": \"2018\",\n",
      "    \"key_display_name\": \"2018\",\n",
      "    \"count\": 2\n",
      "  }\n",
      "]\n"
     ]
    }
   ],
   "source": [
    "import requests, json\n",
    "response = requests.get(work_groups_url)\n",
    "work_groups = response.json()['group_by']\n",
    "print(json.dumps(work_groups, indent=2))"
   ]
  },
  {
   "cell_type": "code",
   "execution_count": 22,
   "id": "f71e2d0d",
   "metadata": {},
   "outputs": [
    {
     "data": {
      "text/plain": [
       "list"
      ]
     },
     "execution_count": 22,
     "metadata": {},
     "output_type": "execute_result"
    }
   ],
   "source": [
    "work_groups\n",
    "type(work_groups)"
   ]
  },
  {
   "cell_type": "code",
   "execution_count": 23,
   "id": "7b0f7892",
   "metadata": {},
   "outputs": [
    {
     "data": {
      "text/html": [
       "<div>\n",
       "<style scoped>\n",
       "    .dataframe tbody tr th:only-of-type {\n",
       "        vertical-align: middle;\n",
       "    }\n",
       "\n",
       "    .dataframe tbody tr th {\n",
       "        vertical-align: top;\n",
       "    }\n",
       "\n",
       "    .dataframe thead th {\n",
       "        text-align: right;\n",
       "    }\n",
       "</style>\n",
       "<table border=\"1\" class=\"dataframe\">\n",
       "  <thead>\n",
       "    <tr style=\"text-align: right;\">\n",
       "      <th></th>\n",
       "      <th>key</th>\n",
       "      <th>key_display_name</th>\n",
       "      <th>count</th>\n",
       "    </tr>\n",
       "  </thead>\n",
       "  <tbody>\n",
       "    <tr>\n",
       "      <th>0</th>\n",
       "      <td>2013</td>\n",
       "      <td>2013</td>\n",
       "      <td>29</td>\n",
       "    </tr>\n",
       "    <tr>\n",
       "      <th>1</th>\n",
       "      <td>2019</td>\n",
       "      <td>2019</td>\n",
       "      <td>28</td>\n",
       "    </tr>\n",
       "    <tr>\n",
       "      <th>2</th>\n",
       "      <td>2012</td>\n",
       "      <td>2012</td>\n",
       "      <td>21</td>\n",
       "    </tr>\n",
       "    <tr>\n",
       "      <th>3</th>\n",
       "      <td>2016</td>\n",
       "      <td>2016</td>\n",
       "      <td>21</td>\n",
       "    </tr>\n",
       "    <tr>\n",
       "      <th>4</th>\n",
       "      <td>2011</td>\n",
       "      <td>2011</td>\n",
       "      <td>17</td>\n",
       "    </tr>\n",
       "    <tr>\n",
       "      <th>5</th>\n",
       "      <td>2015</td>\n",
       "      <td>2015</td>\n",
       "      <td>16</td>\n",
       "    </tr>\n",
       "    <tr>\n",
       "      <th>6</th>\n",
       "      <td>2014</td>\n",
       "      <td>2014</td>\n",
       "      <td>11</td>\n",
       "    </tr>\n",
       "    <tr>\n",
       "      <th>7</th>\n",
       "      <td>2020</td>\n",
       "      <td>2020</td>\n",
       "      <td>7</td>\n",
       "    </tr>\n",
       "    <tr>\n",
       "      <th>8</th>\n",
       "      <td>2017</td>\n",
       "      <td>2017</td>\n",
       "      <td>5</td>\n",
       "    </tr>\n",
       "    <tr>\n",
       "      <th>9</th>\n",
       "      <td>2021</td>\n",
       "      <td>2021</td>\n",
       "      <td>4</td>\n",
       "    </tr>\n",
       "    <tr>\n",
       "      <th>10</th>\n",
       "      <td>2022</td>\n",
       "      <td>2022</td>\n",
       "      <td>3</td>\n",
       "    </tr>\n",
       "    <tr>\n",
       "      <th>11</th>\n",
       "      <td>2018</td>\n",
       "      <td>2018</td>\n",
       "      <td>2</td>\n",
       "    </tr>\n",
       "  </tbody>\n",
       "</table>\n",
       "</div>"
      ],
      "text/plain": [
       "     key key_display_name  count\n",
       "0   2013             2013     29\n",
       "1   2019             2019     28\n",
       "2   2012             2012     21\n",
       "3   2016             2016     21\n",
       "4   2011             2011     17\n",
       "5   2015             2015     16\n",
       "6   2014             2014     11\n",
       "7   2020             2020      7\n",
       "8   2017             2017      5\n",
       "9   2021             2021      4\n",
       "10  2022             2022      3\n",
       "11  2018             2018      2"
      ]
     },
     "execution_count": 23,
     "metadata": {},
     "output_type": "execute_result"
    }
   ],
   "source": [
    "df=pd.DataFrame(data=work_groups)\n",
    "df"
   ]
  },
  {
   "cell_type": "code",
   "execution_count": 24,
   "id": "3a98fbf6",
   "metadata": {},
   "outputs": [
    {
     "data": {
      "text/html": [
       "<div>\n",
       "<style scoped>\n",
       "    .dataframe tbody tr th:only-of-type {\n",
       "        vertical-align: middle;\n",
       "    }\n",
       "\n",
       "    .dataframe tbody tr th {\n",
       "        vertical-align: top;\n",
       "    }\n",
       "\n",
       "    .dataframe thead th {\n",
       "        text-align: right;\n",
       "    }\n",
       "</style>\n",
       "<table border=\"1\" class=\"dataframe\">\n",
       "  <thead>\n",
       "    <tr style=\"text-align: right;\">\n",
       "      <th></th>\n",
       "      <th>key</th>\n",
       "      <th>key_display_name</th>\n",
       "      <th>count</th>\n",
       "    </tr>\n",
       "  </thead>\n",
       "  <tbody>\n",
       "    <tr>\n",
       "      <th>4</th>\n",
       "      <td>2011</td>\n",
       "      <td>2011</td>\n",
       "      <td>17</td>\n",
       "    </tr>\n",
       "    <tr>\n",
       "      <th>2</th>\n",
       "      <td>2012</td>\n",
       "      <td>2012</td>\n",
       "      <td>21</td>\n",
       "    </tr>\n",
       "    <tr>\n",
       "      <th>0</th>\n",
       "      <td>2013</td>\n",
       "      <td>2013</td>\n",
       "      <td>29</td>\n",
       "    </tr>\n",
       "    <tr>\n",
       "      <th>6</th>\n",
       "      <td>2014</td>\n",
       "      <td>2014</td>\n",
       "      <td>11</td>\n",
       "    </tr>\n",
       "    <tr>\n",
       "      <th>5</th>\n",
       "      <td>2015</td>\n",
       "      <td>2015</td>\n",
       "      <td>16</td>\n",
       "    </tr>\n",
       "    <tr>\n",
       "      <th>3</th>\n",
       "      <td>2016</td>\n",
       "      <td>2016</td>\n",
       "      <td>21</td>\n",
       "    </tr>\n",
       "    <tr>\n",
       "      <th>8</th>\n",
       "      <td>2017</td>\n",
       "      <td>2017</td>\n",
       "      <td>5</td>\n",
       "    </tr>\n",
       "    <tr>\n",
       "      <th>11</th>\n",
       "      <td>2018</td>\n",
       "      <td>2018</td>\n",
       "      <td>2</td>\n",
       "    </tr>\n",
       "    <tr>\n",
       "      <th>1</th>\n",
       "      <td>2019</td>\n",
       "      <td>2019</td>\n",
       "      <td>28</td>\n",
       "    </tr>\n",
       "    <tr>\n",
       "      <th>7</th>\n",
       "      <td>2020</td>\n",
       "      <td>2020</td>\n",
       "      <td>7</td>\n",
       "    </tr>\n",
       "    <tr>\n",
       "      <th>9</th>\n",
       "      <td>2021</td>\n",
       "      <td>2021</td>\n",
       "      <td>4</td>\n",
       "    </tr>\n",
       "    <tr>\n",
       "      <th>10</th>\n",
       "      <td>2022</td>\n",
       "      <td>2022</td>\n",
       "      <td>3</td>\n",
       "    </tr>\n",
       "  </tbody>\n",
       "</table>\n",
       "</div>"
      ],
      "text/plain": [
       "     key key_display_name  count\n",
       "4   2011             2011     17\n",
       "2   2012             2012     21\n",
       "0   2013             2013     29\n",
       "6   2014             2014     11\n",
       "5   2015             2015     16\n",
       "3   2016             2016     21\n",
       "8   2017             2017      5\n",
       "11  2018             2018      2\n",
       "1   2019             2019     28\n",
       "7   2020             2020      7\n",
       "9   2021             2021      4\n",
       "10  2022             2022      3"
      ]
     },
     "execution_count": 24,
     "metadata": {},
     "output_type": "execute_result"
    }
   ],
   "source": [
    "df=df.sort_values(by=\"key\")\n",
    "df"
   ]
  },
  {
   "cell_type": "code",
   "execution_count": 25,
   "id": "88342110",
   "metadata": {},
   "outputs": [],
   "source": [
    "import plotly.express as px"
   ]
  },
  {
   "cell_type": "code",
   "execution_count": 27,
   "id": "253ab351",
   "metadata": {},
   "outputs": [
    {
     "data": {
      "application/vnd.plotly.v1+json": {
       "config": {
        "plotlyServerURL": "https://plot.ly"
       },
       "data": [
        {
         "alignmentgroup": "True",
         "hovertemplate": "key=%{x}<br>count=%{y}<extra></extra>",
         "legendgroup": "",
         "marker": {
          "color": "#636efa",
          "pattern": {
           "shape": ""
          }
         },
         "name": "",
         "offsetgroup": "",
         "orientation": "v",
         "showlegend": false,
         "textposition": "auto",
         "type": "bar",
         "x": [
          "2011",
          "2012",
          "2013",
          "2014",
          "2015",
          "2016",
          "2017",
          "2018",
          "2019",
          "2020",
          "2021",
          "2022"
         ],
         "xaxis": "x",
         "y": [
          17,
          21,
          29,
          11,
          16,
          21,
          5,
          2,
          28,
          7,
          4,
          3
         ],
         "yaxis": "y"
        }
       ],
       "layout": {
        "barmode": "relative",
        "legend": {
         "tracegroupgap": 0
        },
        "margin": {
         "t": 60
        },
        "template": {
         "data": {
          "bar": [
           {
            "error_x": {
             "color": "#2a3f5f"
            },
            "error_y": {
             "color": "#2a3f5f"
            },
            "marker": {
             "line": {
              "color": "#E5ECF6",
              "width": 0.5
             },
             "pattern": {
              "fillmode": "overlay",
              "size": 10,
              "solidity": 0.2
             }
            },
            "type": "bar"
           }
          ],
          "barpolar": [
           {
            "marker": {
             "line": {
              "color": "#E5ECF6",
              "width": 0.5
             },
             "pattern": {
              "fillmode": "overlay",
              "size": 10,
              "solidity": 0.2
             }
            },
            "type": "barpolar"
           }
          ],
          "carpet": [
           {
            "aaxis": {
             "endlinecolor": "#2a3f5f",
             "gridcolor": "white",
             "linecolor": "white",
             "minorgridcolor": "white",
             "startlinecolor": "#2a3f5f"
            },
            "baxis": {
             "endlinecolor": "#2a3f5f",
             "gridcolor": "white",
             "linecolor": "white",
             "minorgridcolor": "white",
             "startlinecolor": "#2a3f5f"
            },
            "type": "carpet"
           }
          ],
          "choropleth": [
           {
            "colorbar": {
             "outlinewidth": 0,
             "ticks": ""
            },
            "type": "choropleth"
           }
          ],
          "contour": [
           {
            "colorbar": {
             "outlinewidth": 0,
             "ticks": ""
            },
            "colorscale": [
             [
              0,
              "#0d0887"
             ],
             [
              0.1111111111111111,
              "#46039f"
             ],
             [
              0.2222222222222222,
              "#7201a8"
             ],
             [
              0.3333333333333333,
              "#9c179e"
             ],
             [
              0.4444444444444444,
              "#bd3786"
             ],
             [
              0.5555555555555556,
              "#d8576b"
             ],
             [
              0.6666666666666666,
              "#ed7953"
             ],
             [
              0.7777777777777778,
              "#fb9f3a"
             ],
             [
              0.8888888888888888,
              "#fdca26"
             ],
             [
              1,
              "#f0f921"
             ]
            ],
            "type": "contour"
           }
          ],
          "contourcarpet": [
           {
            "colorbar": {
             "outlinewidth": 0,
             "ticks": ""
            },
            "type": "contourcarpet"
           }
          ],
          "heatmap": [
           {
            "colorbar": {
             "outlinewidth": 0,
             "ticks": ""
            },
            "colorscale": [
             [
              0,
              "#0d0887"
             ],
             [
              0.1111111111111111,
              "#46039f"
             ],
             [
              0.2222222222222222,
              "#7201a8"
             ],
             [
              0.3333333333333333,
              "#9c179e"
             ],
             [
              0.4444444444444444,
              "#bd3786"
             ],
             [
              0.5555555555555556,
              "#d8576b"
             ],
             [
              0.6666666666666666,
              "#ed7953"
             ],
             [
              0.7777777777777778,
              "#fb9f3a"
             ],
             [
              0.8888888888888888,
              "#fdca26"
             ],
             [
              1,
              "#f0f921"
             ]
            ],
            "type": "heatmap"
           }
          ],
          "heatmapgl": [
           {
            "colorbar": {
             "outlinewidth": 0,
             "ticks": ""
            },
            "colorscale": [
             [
              0,
              "#0d0887"
             ],
             [
              0.1111111111111111,
              "#46039f"
             ],
             [
              0.2222222222222222,
              "#7201a8"
             ],
             [
              0.3333333333333333,
              "#9c179e"
             ],
             [
              0.4444444444444444,
              "#bd3786"
             ],
             [
              0.5555555555555556,
              "#d8576b"
             ],
             [
              0.6666666666666666,
              "#ed7953"
             ],
             [
              0.7777777777777778,
              "#fb9f3a"
             ],
             [
              0.8888888888888888,
              "#fdca26"
             ],
             [
              1,
              "#f0f921"
             ]
            ],
            "type": "heatmapgl"
           }
          ],
          "histogram": [
           {
            "marker": {
             "pattern": {
              "fillmode": "overlay",
              "size": 10,
              "solidity": 0.2
             }
            },
            "type": "histogram"
           }
          ],
          "histogram2d": [
           {
            "colorbar": {
             "outlinewidth": 0,
             "ticks": ""
            },
            "colorscale": [
             [
              0,
              "#0d0887"
             ],
             [
              0.1111111111111111,
              "#46039f"
             ],
             [
              0.2222222222222222,
              "#7201a8"
             ],
             [
              0.3333333333333333,
              "#9c179e"
             ],
             [
              0.4444444444444444,
              "#bd3786"
             ],
             [
              0.5555555555555556,
              "#d8576b"
             ],
             [
              0.6666666666666666,
              "#ed7953"
             ],
             [
              0.7777777777777778,
              "#fb9f3a"
             ],
             [
              0.8888888888888888,
              "#fdca26"
             ],
             [
              1,
              "#f0f921"
             ]
            ],
            "type": "histogram2d"
           }
          ],
          "histogram2dcontour": [
           {
            "colorbar": {
             "outlinewidth": 0,
             "ticks": ""
            },
            "colorscale": [
             [
              0,
              "#0d0887"
             ],
             [
              0.1111111111111111,
              "#46039f"
             ],
             [
              0.2222222222222222,
              "#7201a8"
             ],
             [
              0.3333333333333333,
              "#9c179e"
             ],
             [
              0.4444444444444444,
              "#bd3786"
             ],
             [
              0.5555555555555556,
              "#d8576b"
             ],
             [
              0.6666666666666666,
              "#ed7953"
             ],
             [
              0.7777777777777778,
              "#fb9f3a"
             ],
             [
              0.8888888888888888,
              "#fdca26"
             ],
             [
              1,
              "#f0f921"
             ]
            ],
            "type": "histogram2dcontour"
           }
          ],
          "mesh3d": [
           {
            "colorbar": {
             "outlinewidth": 0,
             "ticks": ""
            },
            "type": "mesh3d"
           }
          ],
          "parcoords": [
           {
            "line": {
             "colorbar": {
              "outlinewidth": 0,
              "ticks": ""
             }
            },
            "type": "parcoords"
           }
          ],
          "pie": [
           {
            "automargin": true,
            "type": "pie"
           }
          ],
          "scatter": [
           {
            "marker": {
             "colorbar": {
              "outlinewidth": 0,
              "ticks": ""
             }
            },
            "type": "scatter"
           }
          ],
          "scatter3d": [
           {
            "line": {
             "colorbar": {
              "outlinewidth": 0,
              "ticks": ""
             }
            },
            "marker": {
             "colorbar": {
              "outlinewidth": 0,
              "ticks": ""
             }
            },
            "type": "scatter3d"
           }
          ],
          "scattercarpet": [
           {
            "marker": {
             "colorbar": {
              "outlinewidth": 0,
              "ticks": ""
             }
            },
            "type": "scattercarpet"
           }
          ],
          "scattergeo": [
           {
            "marker": {
             "colorbar": {
              "outlinewidth": 0,
              "ticks": ""
             }
            },
            "type": "scattergeo"
           }
          ],
          "scattergl": [
           {
            "marker": {
             "colorbar": {
              "outlinewidth": 0,
              "ticks": ""
             }
            },
            "type": "scattergl"
           }
          ],
          "scattermapbox": [
           {
            "marker": {
             "colorbar": {
              "outlinewidth": 0,
              "ticks": ""
             }
            },
            "type": "scattermapbox"
           }
          ],
          "scatterpolar": [
           {
            "marker": {
             "colorbar": {
              "outlinewidth": 0,
              "ticks": ""
             }
            },
            "type": "scatterpolar"
           }
          ],
          "scatterpolargl": [
           {
            "marker": {
             "colorbar": {
              "outlinewidth": 0,
              "ticks": ""
             }
            },
            "type": "scatterpolargl"
           }
          ],
          "scatterternary": [
           {
            "marker": {
             "colorbar": {
              "outlinewidth": 0,
              "ticks": ""
             }
            },
            "type": "scatterternary"
           }
          ],
          "surface": [
           {
            "colorbar": {
             "outlinewidth": 0,
             "ticks": ""
            },
            "colorscale": [
             [
              0,
              "#0d0887"
             ],
             [
              0.1111111111111111,
              "#46039f"
             ],
             [
              0.2222222222222222,
              "#7201a8"
             ],
             [
              0.3333333333333333,
              "#9c179e"
             ],
             [
              0.4444444444444444,
              "#bd3786"
             ],
             [
              0.5555555555555556,
              "#d8576b"
             ],
             [
              0.6666666666666666,
              "#ed7953"
             ],
             [
              0.7777777777777778,
              "#fb9f3a"
             ],
             [
              0.8888888888888888,
              "#fdca26"
             ],
             [
              1,
              "#f0f921"
             ]
            ],
            "type": "surface"
           }
          ],
          "table": [
           {
            "cells": {
             "fill": {
              "color": "#EBF0F8"
             },
             "line": {
              "color": "white"
             }
            },
            "header": {
             "fill": {
              "color": "#C8D4E3"
             },
             "line": {
              "color": "white"
             }
            },
            "type": "table"
           }
          ]
         },
         "layout": {
          "annotationdefaults": {
           "arrowcolor": "#2a3f5f",
           "arrowhead": 0,
           "arrowwidth": 1
          },
          "autotypenumbers": "strict",
          "coloraxis": {
           "colorbar": {
            "outlinewidth": 0,
            "ticks": ""
           }
          },
          "colorscale": {
           "diverging": [
            [
             0,
             "#8e0152"
            ],
            [
             0.1,
             "#c51b7d"
            ],
            [
             0.2,
             "#de77ae"
            ],
            [
             0.3,
             "#f1b6da"
            ],
            [
             0.4,
             "#fde0ef"
            ],
            [
             0.5,
             "#f7f7f7"
            ],
            [
             0.6,
             "#e6f5d0"
            ],
            [
             0.7,
             "#b8e186"
            ],
            [
             0.8,
             "#7fbc41"
            ],
            [
             0.9,
             "#4d9221"
            ],
            [
             1,
             "#276419"
            ]
           ],
           "sequential": [
            [
             0,
             "#0d0887"
            ],
            [
             0.1111111111111111,
             "#46039f"
            ],
            [
             0.2222222222222222,
             "#7201a8"
            ],
            [
             0.3333333333333333,
             "#9c179e"
            ],
            [
             0.4444444444444444,
             "#bd3786"
            ],
            [
             0.5555555555555556,
             "#d8576b"
            ],
            [
             0.6666666666666666,
             "#ed7953"
            ],
            [
             0.7777777777777778,
             "#fb9f3a"
            ],
            [
             0.8888888888888888,
             "#fdca26"
            ],
            [
             1,
             "#f0f921"
            ]
           ],
           "sequentialminus": [
            [
             0,
             "#0d0887"
            ],
            [
             0.1111111111111111,
             "#46039f"
            ],
            [
             0.2222222222222222,
             "#7201a8"
            ],
            [
             0.3333333333333333,
             "#9c179e"
            ],
            [
             0.4444444444444444,
             "#bd3786"
            ],
            [
             0.5555555555555556,
             "#d8576b"
            ],
            [
             0.6666666666666666,
             "#ed7953"
            ],
            [
             0.7777777777777778,
             "#fb9f3a"
            ],
            [
             0.8888888888888888,
             "#fdca26"
            ],
            [
             1,
             "#f0f921"
            ]
           ]
          },
          "colorway": [
           "#636efa",
           "#EF553B",
           "#00cc96",
           "#ab63fa",
           "#FFA15A",
           "#19d3f3",
           "#FF6692",
           "#B6E880",
           "#FF97FF",
           "#FECB52"
          ],
          "font": {
           "color": "#2a3f5f"
          },
          "geo": {
           "bgcolor": "white",
           "lakecolor": "white",
           "landcolor": "#E5ECF6",
           "showlakes": true,
           "showland": true,
           "subunitcolor": "white"
          },
          "hoverlabel": {
           "align": "left"
          },
          "hovermode": "closest",
          "mapbox": {
           "style": "light"
          },
          "paper_bgcolor": "white",
          "plot_bgcolor": "#E5ECF6",
          "polar": {
           "angularaxis": {
            "gridcolor": "white",
            "linecolor": "white",
            "ticks": ""
           },
           "bgcolor": "#E5ECF6",
           "radialaxis": {
            "gridcolor": "white",
            "linecolor": "white",
            "ticks": ""
           }
          },
          "scene": {
           "xaxis": {
            "backgroundcolor": "#E5ECF6",
            "gridcolor": "white",
            "gridwidth": 2,
            "linecolor": "white",
            "showbackground": true,
            "ticks": "",
            "zerolinecolor": "white"
           },
           "yaxis": {
            "backgroundcolor": "#E5ECF6",
            "gridcolor": "white",
            "gridwidth": 2,
            "linecolor": "white",
            "showbackground": true,
            "ticks": "",
            "zerolinecolor": "white"
           },
           "zaxis": {
            "backgroundcolor": "#E5ECF6",
            "gridcolor": "white",
            "gridwidth": 2,
            "linecolor": "white",
            "showbackground": true,
            "ticks": "",
            "zerolinecolor": "white"
           }
          },
          "shapedefaults": {
           "line": {
            "color": "#2a3f5f"
           }
          },
          "ternary": {
           "aaxis": {
            "gridcolor": "white",
            "linecolor": "white",
            "ticks": ""
           },
           "baxis": {
            "gridcolor": "white",
            "linecolor": "white",
            "ticks": ""
           },
           "bgcolor": "#E5ECF6",
           "caxis": {
            "gridcolor": "white",
            "linecolor": "white",
            "ticks": ""
           }
          },
          "title": {
           "x": 0.05
          },
          "xaxis": {
           "automargin": true,
           "gridcolor": "white",
           "linecolor": "white",
           "ticks": "",
           "title": {
            "standoff": 15
           },
           "zerolinecolor": "white",
           "zerolinewidth": 2
          },
          "yaxis": {
           "automargin": true,
           "gridcolor": "white",
           "linecolor": "white",
           "ticks": "",
           "title": {
            "standoff": 15
           },
           "zerolinecolor": "white",
           "zerolinewidth": 2
          }
         }
        },
        "xaxis": {
         "anchor": "y",
         "domain": [
          0,
          1
         ],
         "title": {
          "text": "key"
         }
        },
        "yaxis": {
         "anchor": "x",
         "domain": [
          0,
          1
         ],
         "title": {
          "text": "count"
         }
        }
       }
      },
      "text/html": [
       "<div>                            <div id=\"1499ba38-ed37-49d4-b4b8-485304fb4b6c\" class=\"plotly-graph-div\" style=\"height:525px; width:100%;\"></div>            <script type=\"text/javascript\">                require([\"plotly\"], function(Plotly) {                    window.PLOTLYENV=window.PLOTLYENV || {};                                    if (document.getElementById(\"1499ba38-ed37-49d4-b4b8-485304fb4b6c\")) {                    Plotly.newPlot(                        \"1499ba38-ed37-49d4-b4b8-485304fb4b6c\",                        [{\"alignmentgroup\":\"True\",\"hovertemplate\":\"key=%{x}<br>count=%{y}<extra></extra>\",\"legendgroup\":\"\",\"marker\":{\"color\":\"#636efa\",\"pattern\":{\"shape\":\"\"}},\"name\":\"\",\"offsetgroup\":\"\",\"orientation\":\"v\",\"showlegend\":false,\"textposition\":\"auto\",\"x\":[\"2011\",\"2012\",\"2013\",\"2014\",\"2015\",\"2016\",\"2017\",\"2018\",\"2019\",\"2020\",\"2021\",\"2022\"],\"xaxis\":\"x\",\"y\":[17,21,29,11,16,21,5,2,28,7,4,3],\"yaxis\":\"y\",\"type\":\"bar\"}],                        {\"template\":{\"data\":{\"bar\":[{\"error_x\":{\"color\":\"#2a3f5f\"},\"error_y\":{\"color\":\"#2a3f5f\"},\"marker\":{\"line\":{\"color\":\"#E5ECF6\",\"width\":0.5},\"pattern\":{\"fillmode\":\"overlay\",\"size\":10,\"solidity\":0.2}},\"type\":\"bar\"}],\"barpolar\":[{\"marker\":{\"line\":{\"color\":\"#E5ECF6\",\"width\":0.5},\"pattern\":{\"fillmode\":\"overlay\",\"size\":10,\"solidity\":0.2}},\"type\":\"barpolar\"}],\"carpet\":[{\"aaxis\":{\"endlinecolor\":\"#2a3f5f\",\"gridcolor\":\"white\",\"linecolor\":\"white\",\"minorgridcolor\":\"white\",\"startlinecolor\":\"#2a3f5f\"},\"baxis\":{\"endlinecolor\":\"#2a3f5f\",\"gridcolor\":\"white\",\"linecolor\":\"white\",\"minorgridcolor\":\"white\",\"startlinecolor\":\"#2a3f5f\"},\"type\":\"carpet\"}],\"choropleth\":[{\"colorbar\":{\"outlinewidth\":0,\"ticks\":\"\"},\"type\":\"choropleth\"}],\"contour\":[{\"colorbar\":{\"outlinewidth\":0,\"ticks\":\"\"},\"colorscale\":[[0.0,\"#0d0887\"],[0.1111111111111111,\"#46039f\"],[0.2222222222222222,\"#7201a8\"],[0.3333333333333333,\"#9c179e\"],[0.4444444444444444,\"#bd3786\"],[0.5555555555555556,\"#d8576b\"],[0.6666666666666666,\"#ed7953\"],[0.7777777777777778,\"#fb9f3a\"],[0.8888888888888888,\"#fdca26\"],[1.0,\"#f0f921\"]],\"type\":\"contour\"}],\"contourcarpet\":[{\"colorbar\":{\"outlinewidth\":0,\"ticks\":\"\"},\"type\":\"contourcarpet\"}],\"heatmap\":[{\"colorbar\":{\"outlinewidth\":0,\"ticks\":\"\"},\"colorscale\":[[0.0,\"#0d0887\"],[0.1111111111111111,\"#46039f\"],[0.2222222222222222,\"#7201a8\"],[0.3333333333333333,\"#9c179e\"],[0.4444444444444444,\"#bd3786\"],[0.5555555555555556,\"#d8576b\"],[0.6666666666666666,\"#ed7953\"],[0.7777777777777778,\"#fb9f3a\"],[0.8888888888888888,\"#fdca26\"],[1.0,\"#f0f921\"]],\"type\":\"heatmap\"}],\"heatmapgl\":[{\"colorbar\":{\"outlinewidth\":0,\"ticks\":\"\"},\"colorscale\":[[0.0,\"#0d0887\"],[0.1111111111111111,\"#46039f\"],[0.2222222222222222,\"#7201a8\"],[0.3333333333333333,\"#9c179e\"],[0.4444444444444444,\"#bd3786\"],[0.5555555555555556,\"#d8576b\"],[0.6666666666666666,\"#ed7953\"],[0.7777777777777778,\"#fb9f3a\"],[0.8888888888888888,\"#fdca26\"],[1.0,\"#f0f921\"]],\"type\":\"heatmapgl\"}],\"histogram\":[{\"marker\":{\"pattern\":{\"fillmode\":\"overlay\",\"size\":10,\"solidity\":0.2}},\"type\":\"histogram\"}],\"histogram2d\":[{\"colorbar\":{\"outlinewidth\":0,\"ticks\":\"\"},\"colorscale\":[[0.0,\"#0d0887\"],[0.1111111111111111,\"#46039f\"],[0.2222222222222222,\"#7201a8\"],[0.3333333333333333,\"#9c179e\"],[0.4444444444444444,\"#bd3786\"],[0.5555555555555556,\"#d8576b\"],[0.6666666666666666,\"#ed7953\"],[0.7777777777777778,\"#fb9f3a\"],[0.8888888888888888,\"#fdca26\"],[1.0,\"#f0f921\"]],\"type\":\"histogram2d\"}],\"histogram2dcontour\":[{\"colorbar\":{\"outlinewidth\":0,\"ticks\":\"\"},\"colorscale\":[[0.0,\"#0d0887\"],[0.1111111111111111,\"#46039f\"],[0.2222222222222222,\"#7201a8\"],[0.3333333333333333,\"#9c179e\"],[0.4444444444444444,\"#bd3786\"],[0.5555555555555556,\"#d8576b\"],[0.6666666666666666,\"#ed7953\"],[0.7777777777777778,\"#fb9f3a\"],[0.8888888888888888,\"#fdca26\"],[1.0,\"#f0f921\"]],\"type\":\"histogram2dcontour\"}],\"mesh3d\":[{\"colorbar\":{\"outlinewidth\":0,\"ticks\":\"\"},\"type\":\"mesh3d\"}],\"parcoords\":[{\"line\":{\"colorbar\":{\"outlinewidth\":0,\"ticks\":\"\"}},\"type\":\"parcoords\"}],\"pie\":[{\"automargin\":true,\"type\":\"pie\"}],\"scatter\":[{\"marker\":{\"colorbar\":{\"outlinewidth\":0,\"ticks\":\"\"}},\"type\":\"scatter\"}],\"scatter3d\":[{\"line\":{\"colorbar\":{\"outlinewidth\":0,\"ticks\":\"\"}},\"marker\":{\"colorbar\":{\"outlinewidth\":0,\"ticks\":\"\"}},\"type\":\"scatter3d\"}],\"scattercarpet\":[{\"marker\":{\"colorbar\":{\"outlinewidth\":0,\"ticks\":\"\"}},\"type\":\"scattercarpet\"}],\"scattergeo\":[{\"marker\":{\"colorbar\":{\"outlinewidth\":0,\"ticks\":\"\"}},\"type\":\"scattergeo\"}],\"scattergl\":[{\"marker\":{\"colorbar\":{\"outlinewidth\":0,\"ticks\":\"\"}},\"type\":\"scattergl\"}],\"scattermapbox\":[{\"marker\":{\"colorbar\":{\"outlinewidth\":0,\"ticks\":\"\"}},\"type\":\"scattermapbox\"}],\"scatterpolar\":[{\"marker\":{\"colorbar\":{\"outlinewidth\":0,\"ticks\":\"\"}},\"type\":\"scatterpolar\"}],\"scatterpolargl\":[{\"marker\":{\"colorbar\":{\"outlinewidth\":0,\"ticks\":\"\"}},\"type\":\"scatterpolargl\"}],\"scatterternary\":[{\"marker\":{\"colorbar\":{\"outlinewidth\":0,\"ticks\":\"\"}},\"type\":\"scatterternary\"}],\"surface\":[{\"colorbar\":{\"outlinewidth\":0,\"ticks\":\"\"},\"colorscale\":[[0.0,\"#0d0887\"],[0.1111111111111111,\"#46039f\"],[0.2222222222222222,\"#7201a8\"],[0.3333333333333333,\"#9c179e\"],[0.4444444444444444,\"#bd3786\"],[0.5555555555555556,\"#d8576b\"],[0.6666666666666666,\"#ed7953\"],[0.7777777777777778,\"#fb9f3a\"],[0.8888888888888888,\"#fdca26\"],[1.0,\"#f0f921\"]],\"type\":\"surface\"}],\"table\":[{\"cells\":{\"fill\":{\"color\":\"#EBF0F8\"},\"line\":{\"color\":\"white\"}},\"header\":{\"fill\":{\"color\":\"#C8D4E3\"},\"line\":{\"color\":\"white\"}},\"type\":\"table\"}]},\"layout\":{\"annotationdefaults\":{\"arrowcolor\":\"#2a3f5f\",\"arrowhead\":0,\"arrowwidth\":1},\"autotypenumbers\":\"strict\",\"coloraxis\":{\"colorbar\":{\"outlinewidth\":0,\"ticks\":\"\"}},\"colorscale\":{\"diverging\":[[0,\"#8e0152\"],[0.1,\"#c51b7d\"],[0.2,\"#de77ae\"],[0.3,\"#f1b6da\"],[0.4,\"#fde0ef\"],[0.5,\"#f7f7f7\"],[0.6,\"#e6f5d0\"],[0.7,\"#b8e186\"],[0.8,\"#7fbc41\"],[0.9,\"#4d9221\"],[1,\"#276419\"]],\"sequential\":[[0.0,\"#0d0887\"],[0.1111111111111111,\"#46039f\"],[0.2222222222222222,\"#7201a8\"],[0.3333333333333333,\"#9c179e\"],[0.4444444444444444,\"#bd3786\"],[0.5555555555555556,\"#d8576b\"],[0.6666666666666666,\"#ed7953\"],[0.7777777777777778,\"#fb9f3a\"],[0.8888888888888888,\"#fdca26\"],[1.0,\"#f0f921\"]],\"sequentialminus\":[[0.0,\"#0d0887\"],[0.1111111111111111,\"#46039f\"],[0.2222222222222222,\"#7201a8\"],[0.3333333333333333,\"#9c179e\"],[0.4444444444444444,\"#bd3786\"],[0.5555555555555556,\"#d8576b\"],[0.6666666666666666,\"#ed7953\"],[0.7777777777777778,\"#fb9f3a\"],[0.8888888888888888,\"#fdca26\"],[1.0,\"#f0f921\"]]},\"colorway\":[\"#636efa\",\"#EF553B\",\"#00cc96\",\"#ab63fa\",\"#FFA15A\",\"#19d3f3\",\"#FF6692\",\"#B6E880\",\"#FF97FF\",\"#FECB52\"],\"font\":{\"color\":\"#2a3f5f\"},\"geo\":{\"bgcolor\":\"white\",\"lakecolor\":\"white\",\"landcolor\":\"#E5ECF6\",\"showlakes\":true,\"showland\":true,\"subunitcolor\":\"white\"},\"hoverlabel\":{\"align\":\"left\"},\"hovermode\":\"closest\",\"mapbox\":{\"style\":\"light\"},\"paper_bgcolor\":\"white\",\"plot_bgcolor\":\"#E5ECF6\",\"polar\":{\"angularaxis\":{\"gridcolor\":\"white\",\"linecolor\":\"white\",\"ticks\":\"\"},\"bgcolor\":\"#E5ECF6\",\"radialaxis\":{\"gridcolor\":\"white\",\"linecolor\":\"white\",\"ticks\":\"\"}},\"scene\":{\"xaxis\":{\"backgroundcolor\":\"#E5ECF6\",\"gridcolor\":\"white\",\"gridwidth\":2,\"linecolor\":\"white\",\"showbackground\":true,\"ticks\":\"\",\"zerolinecolor\":\"white\"},\"yaxis\":{\"backgroundcolor\":\"#E5ECF6\",\"gridcolor\":\"white\",\"gridwidth\":2,\"linecolor\":\"white\",\"showbackground\":true,\"ticks\":\"\",\"zerolinecolor\":\"white\"},\"zaxis\":{\"backgroundcolor\":\"#E5ECF6\",\"gridcolor\":\"white\",\"gridwidth\":2,\"linecolor\":\"white\",\"showbackground\":true,\"ticks\":\"\",\"zerolinecolor\":\"white\"}},\"shapedefaults\":{\"line\":{\"color\":\"#2a3f5f\"}},\"ternary\":{\"aaxis\":{\"gridcolor\":\"white\",\"linecolor\":\"white\",\"ticks\":\"\"},\"baxis\":{\"gridcolor\":\"white\",\"linecolor\":\"white\",\"ticks\":\"\"},\"bgcolor\":\"#E5ECF6\",\"caxis\":{\"gridcolor\":\"white\",\"linecolor\":\"white\",\"ticks\":\"\"}},\"title\":{\"x\":0.05},\"xaxis\":{\"automargin\":true,\"gridcolor\":\"white\",\"linecolor\":\"white\",\"ticks\":\"\",\"title\":{\"standoff\":15},\"zerolinecolor\":\"white\",\"zerolinewidth\":2},\"yaxis\":{\"automargin\":true,\"gridcolor\":\"white\",\"linecolor\":\"white\",\"ticks\":\"\",\"title\":{\"standoff\":15},\"zerolinecolor\":\"white\",\"zerolinewidth\":2}}},\"xaxis\":{\"anchor\":\"y\",\"domain\":[0.0,1.0],\"title\":{\"text\":\"key\"}},\"yaxis\":{\"anchor\":\"x\",\"domain\":[0.0,1.0],\"title\":{\"text\":\"count\"}},\"legend\":{\"tracegroupgap\":0},\"margin\":{\"t\":60},\"barmode\":\"relative\"},                        {\"responsive\": true}                    ).then(function(){\n",
       "                            \n",
       "var gd = document.getElementById('1499ba38-ed37-49d4-b4b8-485304fb4b6c');\n",
       "var x = new MutationObserver(function (mutations, observer) {{\n",
       "        var display = window.getComputedStyle(gd).display;\n",
       "        if (!display || display === 'none') {{\n",
       "            console.log([gd, 'removed!']);\n",
       "            Plotly.purge(gd);\n",
       "            observer.disconnect();\n",
       "        }}\n",
       "}});\n",
       "\n",
       "// Listen for the removal of the full notebook cells\n",
       "var notebookContainer = gd.closest('#notebook-container');\n",
       "if (notebookContainer) {{\n",
       "    x.observe(notebookContainer, {childList: true});\n",
       "}}\n",
       "\n",
       "// Listen for the clearing of the current output cell\n",
       "var outputEl = gd.closest('.output');\n",
       "if (outputEl) {{\n",
       "    x.observe(outputEl, {childList: true});\n",
       "}}\n",
       "\n",
       "                        })                };                });            </script>        </div>"
      ]
     },
     "metadata": {},
     "output_type": "display_data"
    }
   ],
   "source": [
    "px.bar(df,x='key',y='count')"
   ]
  },
  {
   "attachments": {
    "visualization%20%281%29.png": {
     "image/png": "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"
    }
   },
   "cell_type": "markdown",
   "id": "941b99c7",
   "metadata": {},
   "source": [
    "Again, interestingly it is not the same distribution over years that we see for datasets in DataCite Commons. \n",
    "\n",
    "Title: Datasets by Publication Year (Source: DataCite Commons)![visualization%20%281%29.png](attachment:visualization%20%281%29.png)"
   ]
  },
  {
   "cell_type": "markdown",
   "id": "bc97ecd0-2605-4702-b48b-c83d9d090a95",
   "metadata": {},
   "source": [
    "## 4. Group by \"licence\" - FAIR Data\n",
    "\n",
    "FAIR data are data which meet principles of findability, accessibility, interoperability, and reusability. One of the guiding principles notes that data should be released with a clear and accessible data usage license.  The alternate host venue has the element \"licence\" so let's see what we get. \n"
   ]
  },
  {
   "cell_type": "code",
   "execution_count": 28,
   "id": "b2152a3d",
   "metadata": {},
   "outputs": [
    {
     "name": "stdout",
     "output_type": "stream",
     "text": [
      "complete URL with group_by:\n",
      "  https://api.openalex.org/works?filter=institutions.ror:https://ror.org/03c4mmv16,is_paratext:false,type:Dataset,from_publication_date:2011-01-01&group_by=alternate_host_venues.license\n"
     ]
    }
   ],
   "source": [
    "group_by_param = 'group_by=alternate_host_venues.license'\n",
    "\n",
    "work_groups_url = f'{filtered_works_url}&{group_by_param}'\n",
    "print(f'complete URL with group_by:\\n  {work_groups_url}')"
   ]
  },
  {
   "cell_type": "code",
   "execution_count": 29,
   "id": "3d9038d2",
   "metadata": {},
   "outputs": [
    {
     "name": "stdout",
     "output_type": "stream",
     "text": [
      "3\n"
     ]
    }
   ],
   "source": [
    "response_meta = requests.get(\n",
    "    'https://api.openalex.org/works?filter=institutions.ror:https://ror.org/03c4mmv16,is_paratext:false,type:Dataset,from_publication_date:2012-07-20&group_by=alternate_host_venues.license'\n",
    ").json()['meta']\n",
    "\n",
    "print(response_meta['count'])"
   ]
  },
  {
   "cell_type": "code",
   "execution_count": 30,
   "id": "a7768120-47af-4a3a-bfda-f5cd7fed3046",
   "metadata": {
    "scrolled": true
   },
   "outputs": [
    {
     "name": "stdout",
     "output_type": "stream",
     "text": [
      "[\n",
      "  {\n",
      "    \"key\": \"unknown\",\n",
      "    \"key_display_name\": \"unknown\",\n",
      "    \"count\": 162\n",
      "  },\n",
      "  {\n",
      "    \"key\": \"cc-by\",\n",
      "    \"key_display_name\": \"cc-by\",\n",
      "    \"count\": 1\n",
      "  },\n",
      "  {\n",
      "    \"key\": \"cc-by-nc-sa\",\n",
      "    \"key_display_name\": \"cc-by-nc-sa\",\n",
      "    \"count\": 1\n",
      "  }\n",
      "]\n"
     ]
    }
   ],
   "source": [
    "import requests, json\n",
    "response = requests.get(work_groups_url)\n",
    "work_groups = response.json()['group_by']\n",
    "print(json.dumps(work_groups, indent=2))"
   ]
  },
  {
   "cell_type": "code",
   "execution_count": 31,
   "id": "685dd3e2",
   "metadata": {},
   "outputs": [
    {
     "data": {
      "text/html": [
       "<div>\n",
       "<style scoped>\n",
       "    .dataframe tbody tr th:only-of-type {\n",
       "        vertical-align: middle;\n",
       "    }\n",
       "\n",
       "    .dataframe tbody tr th {\n",
       "        vertical-align: top;\n",
       "    }\n",
       "\n",
       "    .dataframe thead th {\n",
       "        text-align: right;\n",
       "    }\n",
       "</style>\n",
       "<table border=\"1\" class=\"dataframe\">\n",
       "  <thead>\n",
       "    <tr style=\"text-align: right;\">\n",
       "      <th></th>\n",
       "      <th>key</th>\n",
       "      <th>key_display_name</th>\n",
       "      <th>count</th>\n",
       "    </tr>\n",
       "  </thead>\n",
       "  <tbody>\n",
       "    <tr>\n",
       "      <th>0</th>\n",
       "      <td>unknown</td>\n",
       "      <td>unknown</td>\n",
       "      <td>162</td>\n",
       "    </tr>\n",
       "    <tr>\n",
       "      <th>1</th>\n",
       "      <td>cc-by</td>\n",
       "      <td>cc-by</td>\n",
       "      <td>1</td>\n",
       "    </tr>\n",
       "    <tr>\n",
       "      <th>2</th>\n",
       "      <td>cc-by-nc-sa</td>\n",
       "      <td>cc-by-nc-sa</td>\n",
       "      <td>1</td>\n",
       "    </tr>\n",
       "  </tbody>\n",
       "</table>\n",
       "</div>"
      ],
      "text/plain": [
       "           key key_display_name  count\n",
       "0      unknown          unknown    162\n",
       "1        cc-by            cc-by      1\n",
       "2  cc-by-nc-sa      cc-by-nc-sa      1"
      ]
     },
     "execution_count": 31,
     "metadata": {},
     "output_type": "execute_result"
    }
   ],
   "source": [
    "df=pd.DataFrame(data=work_groups)\n",
    "df"
   ]
  },
  {
   "attachments": {
    "image.png": {
     "image/png": "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"
    }
   },
   "cell_type": "markdown",
   "id": "5353f68d",
   "metadata": {},
   "source": [
    "So of the 164 datasets, apparently only two have licences and the rest are \"unknown\". Querying DataCite Commons, we can see that for the 130 results, 125 have the data use licence CC0-1.0. \n",
    "\n",
    "**Title** License attributed to Datasets (Source: DataCite Commons)\n",
    "![image.png](attachment:image.png)"
   ]
  },
  {
   "cell_type": "markdown",
   "id": "7ddd62b4",
   "metadata": {},
   "source": [
    "## 5. Get OpenAlex results into a pandas DataFrame\n",
    "Let's take a closer look at some of the results from the API in order to compare to Datacite."
   ]
  },
  {
   "cell_type": "code",
   "execution_count": 32,
   "id": "f4202d34",
   "metadata": {},
   "outputs": [],
   "source": [
    "url = 'https://api.openalex.org/works?filter=institutions.ror:https://ror.org/03c4mmv16,is_paratext:false,type:Dataset,from_publication_date:2012-07-20'"
   ]
  },
  {
   "cell_type": "code",
   "execution_count": 33,
   "id": "ee640449",
   "metadata": {},
   "outputs": [],
   "source": [
    "r = requests.get(url)"
   ]
  },
  {
   "cell_type": "code",
   "execution_count": 34,
   "id": "3e1812c3",
   "metadata": {},
   "outputs": [],
   "source": [
    "json = r.json()"
   ]
  },
  {
   "cell_type": "code",
   "execution_count": 35,
   "id": "51782af3",
   "metadata": {},
   "outputs": [
    {
     "data": {
      "text/plain": [
       "dict_keys(['meta', 'results', 'group_by'])"
      ]
     },
     "execution_count": 35,
     "metadata": {},
     "output_type": "execute_result"
    }
   ],
   "source": [
    "json.keys()"
   ]
  },
  {
   "cell_type": "code",
   "execution_count": 36,
   "id": "b3dd25d3",
   "metadata": {},
   "outputs": [
    {
     "data": {
      "text/plain": [
       "list"
      ]
     },
     "execution_count": 36,
     "metadata": {},
     "output_type": "execute_result"
    }
   ],
   "source": [
    "type(json['results'])"
   ]
  },
  {
   "cell_type": "code",
   "execution_count": 37,
   "id": "2087edc2",
   "metadata": {},
   "outputs": [
    {
     "data": {
      "text/plain": [
       "dict"
      ]
     },
     "execution_count": 37,
     "metadata": {},
     "output_type": "execute_result"
    }
   ],
   "source": [
    "type(json['results'][0])\n",
    "## the key results is a dict, so it will be easy to transform into df. "
   ]
  },
  {
   "cell_type": "code",
   "execution_count": 38,
   "id": "78f383a1",
   "metadata": {},
   "outputs": [],
   "source": [
    "df = pd.DataFrame(json['results'])"
   ]
  },
  {
   "cell_type": "code",
   "execution_count": 39,
   "id": "68779440",
   "metadata": {},
   "outputs": [
    {
     "data": {
      "text/html": [
       "<div>\n",
       "<style scoped>\n",
       "    .dataframe tbody tr th:only-of-type {\n",
       "        vertical-align: middle;\n",
       "    }\n",
       "\n",
       "    .dataframe tbody tr th {\n",
       "        vertical-align: top;\n",
       "    }\n",
       "\n",
       "    .dataframe thead th {\n",
       "        text-align: right;\n",
       "    }\n",
       "</style>\n",
       "<table border=\"1\" class=\"dataframe\">\n",
       "  <thead>\n",
       "    <tr style=\"text-align: right;\">\n",
       "      <th></th>\n",
       "      <th>id</th>\n",
       "      <th>doi</th>\n",
       "      <th>title</th>\n",
       "      <th>display_name</th>\n",
       "      <th>publication_year</th>\n",
       "      <th>publication_date</th>\n",
       "      <th>ids</th>\n",
       "      <th>host_venue</th>\n",
       "      <th>type</th>\n",
       "      <th>open_access</th>\n",
       "      <th>...</th>\n",
       "      <th>concepts</th>\n",
       "      <th>mesh</th>\n",
       "      <th>alternate_host_venues</th>\n",
       "      <th>referenced_works</th>\n",
       "      <th>related_works</th>\n",
       "      <th>abstract_inverted_index</th>\n",
       "      <th>cited_by_api_url</th>\n",
       "      <th>counts_by_year</th>\n",
       "      <th>updated_date</th>\n",
       "      <th>created_date</th>\n",
       "    </tr>\n",
       "  </thead>\n",
       "  <tbody>\n",
       "    <tr>\n",
       "      <th>0</th>\n",
       "      <td>https://openalex.org/W4282596494</td>\n",
       "      <td>https://doi.org/10.3410/f.741447712.793593412</td>\n",
       "      <td>Faculty Opinions recommendation of Visualizing...</td>\n",
       "      <td>Faculty Opinions recommendation of Visualizing...</td>\n",
       "      <td>2022</td>\n",
       "      <td>2022-06-01</td>\n",
       "      <td>{'openalex': 'https://openalex.org/W4282596494...</td>\n",
       "      <td>{'id': None, 'issn_l': None, 'issn': None, 'di...</td>\n",
       "      <td>dataset</td>\n",
       "      <td>{'is_oa': False, 'oa_status': 'closed', 'oa_ur...</td>\n",
       "      <td>...</td>\n",
       "      <td>[{'id': 'https://openalex.org/C7869135', 'wiki...</td>\n",
       "      <td>[]</td>\n",
       "      <td>[]</td>\n",
       "      <td>[]</td>\n",
       "      <td>[https://openalex.org/W652432, https://openale...</td>\n",
       "      <td>None</td>\n",
       "      <td>https://api.openalex.org/works?filter=cites:W4...</td>\n",
       "      <td>[]</td>\n",
       "      <td>2022-07-08T14:37:48.634306</td>\n",
       "      <td>2022-06-14</td>\n",
       "    </tr>\n",
       "    <tr>\n",
       "      <th>1</th>\n",
       "      <td>https://openalex.org/W4282586198</td>\n",
       "      <td>https://doi.org/10.3410/f.740369599.793593401</td>\n",
       "      <td>Faculty Opinions recommendation of Real-time m...</td>\n",
       "      <td>Faculty Opinions recommendation of Real-time m...</td>\n",
       "      <td>2022</td>\n",
       "      <td>2022-05-31</td>\n",
       "      <td>{'openalex': 'https://openalex.org/W4282586198...</td>\n",
       "      <td>{'id': None, 'issn_l': None, 'issn': None, 'di...</td>\n",
       "      <td>dataset</td>\n",
       "      <td>{'is_oa': False, 'oa_status': 'closed', 'oa_ur...</td>\n",
       "      <td>...</td>\n",
       "      <td>[{'id': 'https://openalex.org/C57493831', 'wik...</td>\n",
       "      <td>[]</td>\n",
       "      <td>[]</td>\n",
       "      <td>[]</td>\n",
       "      <td>[https://openalex.org/W2530218, https://openal...</td>\n",
       "      <td>None</td>\n",
       "      <td>https://api.openalex.org/works?filter=cites:W4...</td>\n",
       "      <td>[]</td>\n",
       "      <td>2022-07-08T15:14:39.350626</td>\n",
       "      <td>2022-06-14</td>\n",
       "    </tr>\n",
       "    <tr>\n",
       "      <th>2</th>\n",
       "      <td>https://openalex.org/W4281697367</td>\n",
       "      <td>https://doi.org/10.3410/f.741567026.793593353</td>\n",
       "      <td>Faculty Opinions recommendation of Deep-tissue...</td>\n",
       "      <td>Faculty Opinions recommendation of Deep-tissue...</td>\n",
       "      <td>2022</td>\n",
       "      <td>2022-05-30</td>\n",
       "      <td>{'openalex': 'https://openalex.org/W4281697367...</td>\n",
       "      <td>{'id': None, 'issn_l': None, 'issn': None, 'di...</td>\n",
       "      <td>dataset</td>\n",
       "      <td>{'is_oa': False, 'oa_status': 'closed', 'oa_ur...</td>\n",
       "      <td>...</td>\n",
       "      <td>[{'id': 'https://openalex.org/C2776878037', 'w...</td>\n",
       "      <td>[]</td>\n",
       "      <td>[]</td>\n",
       "      <td>[]</td>\n",
       "      <td>[https://openalex.org/W33997623, https://opena...</td>\n",
       "      <td>None</td>\n",
       "      <td>https://api.openalex.org/works?filter=cites:W4...</td>\n",
       "      <td>[]</td>\n",
       "      <td>2022-07-08T14:44:17.308543</td>\n",
       "      <td>2022-06-13</td>\n",
       "    </tr>\n",
       "    <tr>\n",
       "      <th>3</th>\n",
       "      <td>https://openalex.org/W4213334749</td>\n",
       "      <td>https://doi.org/10.3410/f.740214753.793589030</td>\n",
       "      <td>Faculty Opinions recommendation of A proximity...</td>\n",
       "      <td>Faculty Opinions recommendation of A proximity...</td>\n",
       "      <td>2021</td>\n",
       "      <td>2021-10-22</td>\n",
       "      <td>{'openalex': 'https://openalex.org/W4213334749...</td>\n",
       "      <td>{'id': None, 'issn_l': None, 'issn': None, 'di...</td>\n",
       "      <td>dataset</td>\n",
       "      <td>{'is_oa': False, 'oa_status': 'closed', 'oa_ur...</td>\n",
       "      <td>...</td>\n",
       "      <td>[{'id': 'https://openalex.org/C204628709', 'wi...</td>\n",
       "      <td>[]</td>\n",
       "      <td>[]</td>\n",
       "      <td>[]</td>\n",
       "      <td>[https://openalex.org/W8276572, https://openal...</td>\n",
       "      <td>None</td>\n",
       "      <td>https://api.openalex.org/works?filter=cites:W4...</td>\n",
       "      <td>[]</td>\n",
       "      <td>2022-07-19T03:57:10.098613</td>\n",
       "      <td>2022-02-24</td>\n",
       "    </tr>\n",
       "    <tr>\n",
       "      <th>4</th>\n",
       "      <td>https://openalex.org/W4200377130</td>\n",
       "      <td>https://doi.org/10.3410/f.740660418.793588437</td>\n",
       "      <td>Faculty Opinions recommendation of Off-the-she...</td>\n",
       "      <td>Faculty Opinions recommendation of Off-the-she...</td>\n",
       "      <td>2021</td>\n",
       "      <td>2021-09-07</td>\n",
       "      <td>{'openalex': 'https://openalex.org/W4200377130...</td>\n",
       "      <td>{'id': None, 'issn_l': None, 'issn': None, 'di...</td>\n",
       "      <td>dataset</td>\n",
       "      <td>{'is_oa': False, 'oa_status': 'closed', 'oa_ur...</td>\n",
       "      <td>...</td>\n",
       "      <td>[{'id': 'https://openalex.org/C204628709', 'wi...</td>\n",
       "      <td>[]</td>\n",
       "      <td>[]</td>\n",
       "      <td>[]</td>\n",
       "      <td>[https://openalex.org/W12162644, https://opena...</td>\n",
       "      <td>None</td>\n",
       "      <td>https://api.openalex.org/works?filter=cites:W4...</td>\n",
       "      <td>[]</td>\n",
       "      <td>2022-07-21T12:28:48.211576</td>\n",
       "      <td>2021-12-31</td>\n",
       "    </tr>\n",
       "    <tr>\n",
       "      <th>5</th>\n",
       "      <td>https://openalex.org/W4240613015</td>\n",
       "      <td>https://doi.org/10.3410/f.738410814.793583926</td>\n",
       "      <td>Faculty Opinions recommendation of Light micro...</td>\n",
       "      <td>Faculty Opinions recommendation of Light micro...</td>\n",
       "      <td>2021</td>\n",
       "      <td>2021-03-18</td>\n",
       "      <td>{'openalex': 'https://openalex.org/W4240613015...</td>\n",
       "      <td>{'id': None, 'issn_l': None, 'issn': None, 'di...</td>\n",
       "      <td>dataset</td>\n",
       "      <td>{'is_oa': True, 'oa_status': 'bronze', 'oa_url...</td>\n",
       "      <td>...</td>\n",
       "      <td>[{'id': 'https://openalex.org/C87555872', 'wik...</td>\n",
       "      <td>[]</td>\n",
       "      <td>[{'id': None, 'display_name': None, 'type': 'j...</td>\n",
       "      <td>[]</td>\n",
       "      <td>[https://openalex.org/W11664375, https://opena...</td>\n",
       "      <td>None</td>\n",
       "      <td>https://api.openalex.org/works?filter=cites:W4...</td>\n",
       "      <td>[]</td>\n",
       "      <td>2022-07-23T23:34:05.420654</td>\n",
       "      <td>2022-05-12</td>\n",
       "    </tr>\n",
       "    <tr>\n",
       "      <th>6</th>\n",
       "      <td>https://openalex.org/W4206100425</td>\n",
       "      <td>https://doi.org/10.3410/f.739167107.793583793</td>\n",
       "      <td>Faculty Opinions recommendation of Click-ExM e...</td>\n",
       "      <td>Faculty Opinions recommendation of Click-ExM e...</td>\n",
       "      <td>2021</td>\n",
       "      <td>2021-03-15</td>\n",
       "      <td>{'openalex': 'https://openalex.org/W4206100425...</td>\n",
       "      <td>{'id': None, 'issn_l': None, 'issn': None, 'di...</td>\n",
       "      <td>dataset</td>\n",
       "      <td>{'is_oa': False, 'oa_status': 'closed', 'oa_ur...</td>\n",
       "      <td>...</td>\n",
       "      <td>[{'id': 'https://openalex.org/C49853544', 'wik...</td>\n",
       "      <td>[]</td>\n",
       "      <td>[]</td>\n",
       "      <td>[]</td>\n",
       "      <td>[https://openalex.org/W8270136, https://openal...</td>\n",
       "      <td>None</td>\n",
       "      <td>https://api.openalex.org/works?filter=cites:W4...</td>\n",
       "      <td>[]</td>\n",
       "      <td>2022-07-24T00:08:05.194287</td>\n",
       "      <td>2022-01-26</td>\n",
       "    </tr>\n",
       "    <tr>\n",
       "      <th>7</th>\n",
       "      <td>https://openalex.org/W4255970389</td>\n",
       "      <td>https://doi.org/10.3410/f.737243078.793581504</td>\n",
       "      <td>Faculty Opinions recommendation of Experimenta...</td>\n",
       "      <td>Faculty Opinions recommendation of Experimenta...</td>\n",
       "      <td>2020</td>\n",
       "      <td>2020-12-29</td>\n",
       "      <td>{'openalex': 'https://openalex.org/W4255970389...</td>\n",
       "      <td>{'id': None, 'issn_l': None, 'issn': None, 'di...</td>\n",
       "      <td>dataset</td>\n",
       "      <td>{'is_oa': False, 'oa_status': 'closed', 'oa_ur...</td>\n",
       "      <td>...</td>\n",
       "      <td>[{'id': 'https://openalex.org/C2777093003', 'w...</td>\n",
       "      <td>[]</td>\n",
       "      <td>[]</td>\n",
       "      <td>[]</td>\n",
       "      <td>[https://openalex.org/W8897, https://openalex....</td>\n",
       "      <td>None</td>\n",
       "      <td>https://api.openalex.org/works?filter=cites:W4...</td>\n",
       "      <td>[]</td>\n",
       "      <td>2022-07-26T06:35:18.839124</td>\n",
       "      <td>2022-05-12</td>\n",
       "    </tr>\n",
       "    <tr>\n",
       "      <th>8</th>\n",
       "      <td>https://openalex.org/W4250041006</td>\n",
       "      <td>https://doi.org/10.3410/f.738284022.793578688</td>\n",
       "      <td>Faculty Opinions recommendation of A genetic m...</td>\n",
       "      <td>Faculty Opinions recommendation of A genetic m...</td>\n",
       "      <td>2020</td>\n",
       "      <td>2020-09-23</td>\n",
       "      <td>{'openalex': 'https://openalex.org/W4250041006...</td>\n",
       "      <td>{'id': None, 'issn_l': None, 'issn': None, 'di...</td>\n",
       "      <td>dataset</td>\n",
       "      <td>{'is_oa': True, 'oa_status': 'bronze', 'oa_url...</td>\n",
       "      <td>...</td>\n",
       "      <td>[{'id': 'https://openalex.org/C143425029', 'wi...</td>\n",
       "      <td>[]</td>\n",
       "      <td>[{'id': None, 'display_name': None, 'type': 'j...</td>\n",
       "      <td>[]</td>\n",
       "      <td>[https://openalex.org/W1452304, https://openal...</td>\n",
       "      <td>None</td>\n",
       "      <td>https://api.openalex.org/works?filter=cites:W4...</td>\n",
       "      <td>[]</td>\n",
       "      <td>2022-07-29T16:59:55.098324</td>\n",
       "      <td>2022-05-12</td>\n",
       "    </tr>\n",
       "    <tr>\n",
       "      <th>9</th>\n",
       "      <td>https://openalex.org/W4249084334</td>\n",
       "      <td>https://doi.org/10.3410/f.738593201.793578194</td>\n",
       "      <td>Faculty Opinions recommendation of Chromosome ...</td>\n",
       "      <td>Faculty Opinions recommendation of Chromosome ...</td>\n",
       "      <td>2020</td>\n",
       "      <td>2020-09-04</td>\n",
       "      <td>{'openalex': 'https://openalex.org/W4249084334...</td>\n",
       "      <td>{'id': None, 'issn_l': None, 'issn': None, 'di...</td>\n",
       "      <td>dataset</td>\n",
       "      <td>{'is_oa': False, 'oa_status': 'closed', 'oa_ur...</td>\n",
       "      <td>...</td>\n",
       "      <td>[{'id': 'https://openalex.org/C73555534', 'wik...</td>\n",
       "      <td>[]</td>\n",
       "      <td>[]</td>\n",
       "      <td>[]</td>\n",
       "      <td>[https://openalex.org/W760385, https://openale...</td>\n",
       "      <td>None</td>\n",
       "      <td>https://api.openalex.org/works?filter=cites:W4...</td>\n",
       "      <td>[]</td>\n",
       "      <td>2022-07-29T19:30:17.964862</td>\n",
       "      <td>2022-05-12</td>\n",
       "    </tr>\n",
       "    <tr>\n",
       "      <th>10</th>\n",
       "      <td>https://openalex.org/W4243467520</td>\n",
       "      <td>https://doi.org/10.3410/f.738390176.793577942</td>\n",
       "      <td>Faculty Opinions recommendation of Deep learni...</td>\n",
       "      <td>Faculty Opinions recommendation of Deep learni...</td>\n",
       "      <td>2020</td>\n",
       "      <td>2020-08-26</td>\n",
       "      <td>{'openalex': 'https://openalex.org/W4243467520...</td>\n",
       "      <td>{'id': None, 'issn_l': None, 'issn': None, 'di...</td>\n",
       "      <td>dataset</td>\n",
       "      <td>{'is_oa': False, 'oa_status': 'closed', 'oa_ur...</td>\n",
       "      <td>...</td>\n",
       "      <td>[{'id': 'https://openalex.org/C41008148', 'wik...</td>\n",
       "      <td>[]</td>\n",
       "      <td>[]</td>\n",
       "      <td>[]</td>\n",
       "      <td>[https://openalex.org/W5092906, https://openal...</td>\n",
       "      <td>None</td>\n",
       "      <td>https://api.openalex.org/works?filter=cites:W4...</td>\n",
       "      <td>[]</td>\n",
       "      <td>2022-07-17T08:05:35.211990</td>\n",
       "      <td>2022-05-12</td>\n",
       "    </tr>\n",
       "    <tr>\n",
       "      <th>11</th>\n",
       "      <td>https://openalex.org/W4234626755</td>\n",
       "      <td>https://doi.org/10.3410/f.735525403.793572989</td>\n",
       "      <td>Faculty Opinions recommendation of Volumetric ...</td>\n",
       "      <td>Faculty Opinions recommendation of Volumetric ...</td>\n",
       "      <td>2020</td>\n",
       "      <td>2020-04-01</td>\n",
       "      <td>{'openalex': 'https://openalex.org/W4234626755...</td>\n",
       "      <td>{'id': None, 'issn_l': None, 'issn': None, 'di...</td>\n",
       "      <td>dataset</td>\n",
       "      <td>{'is_oa': False, 'oa_status': 'closed', 'oa_ur...</td>\n",
       "      <td>...</td>\n",
       "      <td>[{'id': 'https://openalex.org/C147080431', 'wi...</td>\n",
       "      <td>[]</td>\n",
       "      <td>[]</td>\n",
       "      <td>[]</td>\n",
       "      <td>[https://openalex.org/W1037215, https://openal...</td>\n",
       "      <td>None</td>\n",
       "      <td>https://api.openalex.org/works?filter=cites:W4...</td>\n",
       "      <td>[]</td>\n",
       "      <td>2022-07-31T13:11:11.807143</td>\n",
       "      <td>2022-05-12</td>\n",
       "    </tr>\n",
       "    <tr>\n",
       "      <th>12</th>\n",
       "      <td>https://openalex.org/W4243394005</td>\n",
       "      <td>https://doi.org/10.3410/f.736670120.793572990</td>\n",
       "      <td>Faculty Opinions recommendation of Multiplexed...</td>\n",
       "      <td>Faculty Opinions recommendation of Multiplexed...</td>\n",
       "      <td>2020</td>\n",
       "      <td>2020-04-01</td>\n",
       "      <td>{'openalex': 'https://openalex.org/W4243394005...</td>\n",
       "      <td>{'id': None, 'issn_l': None, 'issn': None, 'di...</td>\n",
       "      <td>dataset</td>\n",
       "      <td>{'is_oa': False, 'oa_status': 'closed', 'oa_ur...</td>\n",
       "      <td>...</td>\n",
       "      <td>[{'id': 'https://openalex.org/C19275194', 'wik...</td>\n",
       "      <td>[]</td>\n",
       "      <td>[]</td>\n",
       "      <td>[]</td>\n",
       "      <td>[https://openalex.org/W4023941, https://openal...</td>\n",
       "      <td>None</td>\n",
       "      <td>https://api.openalex.org/works?filter=cites:W4...</td>\n",
       "      <td>[]</td>\n",
       "      <td>2022-07-18T01:47:44.632812</td>\n",
       "      <td>2022-05-12</td>\n",
       "    </tr>\n",
       "    <tr>\n",
       "      <th>13</th>\n",
       "      <td>https://openalex.org/W4237721077</td>\n",
       "      <td>https://doi.org/10.22541/au.158195476.67777188</td>\n",
       "      <td>Engaging cultural humility diffractively</td>\n",
       "      <td>Engaging cultural humility diffractively</td>\n",
       "      <td>2020</td>\n",
       "      <td>2020-02-17</td>\n",
       "      <td>{'openalex': 'https://openalex.org/W4237721077...</td>\n",
       "      <td>{'id': None, 'issn_l': None, 'issn': None, 'di...</td>\n",
       "      <td>dataset</td>\n",
       "      <td>{'is_oa': False, 'oa_status': 'closed', 'oa_ur...</td>\n",
       "      <td>...</td>\n",
       "      <td>[{'id': 'https://openalex.org/C2778456462', 'w...</td>\n",
       "      <td>[]</td>\n",
       "      <td>[]</td>\n",
       "      <td>[]</td>\n",
       "      <td>[https://openalex.org/W1040294, https://openal...</td>\n",
       "      <td>None</td>\n",
       "      <td>https://api.openalex.org/works?filter=cites:W4...</td>\n",
       "      <td>[]</td>\n",
       "      <td>2022-07-18T07:44:25.859586</td>\n",
       "      <td>2022-05-12</td>\n",
       "    </tr>\n",
       "    <tr>\n",
       "      <th>14</th>\n",
       "      <td>https://openalex.org/W4239265442</td>\n",
       "      <td>https://doi.org/10.3410/f.736666610.793565724</td>\n",
       "      <td>Faculty Opinions recommendation of Optical con...</td>\n",
       "      <td>Faculty Opinions recommendation of Optical con...</td>\n",
       "      <td>2019</td>\n",
       "      <td>2019-10-03</td>\n",
       "      <td>{'openalex': 'https://openalex.org/W4239265442...</td>\n",
       "      <td>{'id': None, 'issn_l': None, 'issn': None, 'di...</td>\n",
       "      <td>dataset</td>\n",
       "      <td>{'is_oa': True, 'oa_status': 'bronze', 'oa_url...</td>\n",
       "      <td>...</td>\n",
       "      <td>[{'id': 'https://openalex.org/C178666793', 'wi...</td>\n",
       "      <td>[]</td>\n",
       "      <td>[{'id': None, 'display_name': None, 'type': 'j...</td>\n",
       "      <td>[]</td>\n",
       "      <td>[]</td>\n",
       "      <td>None</td>\n",
       "      <td>https://api.openalex.org/works?filter=cites:W4...</td>\n",
       "      <td>[]</td>\n",
       "      <td>2022-05-17</td>\n",
       "      <td>2022-05-12</td>\n",
       "    </tr>\n",
       "    <tr>\n",
       "      <th>15</th>\n",
       "      <td>https://openalex.org/W4247652418</td>\n",
       "      <td>https://doi.org/10.3410/f.733610121.793563032</td>\n",
       "      <td>Faculty Opinions recommendation of X10 expansi...</td>\n",
       "      <td>Faculty Opinions recommendation of X10 expansi...</td>\n",
       "      <td>2019</td>\n",
       "      <td>2019-07-23</td>\n",
       "      <td>{'openalex': 'https://openalex.org/W4247652418...</td>\n",
       "      <td>{'id': None, 'issn_l': None, 'issn': None, 'di...</td>\n",
       "      <td>dataset</td>\n",
       "      <td>{'is_oa': True, 'oa_status': 'hybrid', 'oa_url...</td>\n",
       "      <td>...</td>\n",
       "      <td>[{'id': 'https://openalex.org/C67649825', 'wik...</td>\n",
       "      <td>[]</td>\n",
       "      <td>[{'id': None, 'display_name': None, 'type': 'j...</td>\n",
       "      <td>[]</td>\n",
       "      <td>[]</td>\n",
       "      <td>None</td>\n",
       "      <td>https://api.openalex.org/works?filter=cites:W4...</td>\n",
       "      <td>[]</td>\n",
       "      <td>2022-05-20</td>\n",
       "      <td>2022-05-12</td>\n",
       "    </tr>\n",
       "    <tr>\n",
       "      <th>16</th>\n",
       "      <td>https://openalex.org/W4230128624</td>\n",
       "      <td>https://doi.org/10.3410/f.725251622.793555475</td>\n",
       "      <td>Faculty Opinions recommendation of Directed ev...</td>\n",
       "      <td>Faculty Opinions recommendation of Directed ev...</td>\n",
       "      <td>2019</td>\n",
       "      <td>2019-01-22</td>\n",
       "      <td>{'openalex': 'https://openalex.org/W4230128624...</td>\n",
       "      <td>{'id': None, 'issn_l': None, 'issn': None, 'di...</td>\n",
       "      <td>dataset</td>\n",
       "      <td>{'is_oa': True, 'oa_status': 'bronze', 'oa_url...</td>\n",
       "      <td>...</td>\n",
       "      <td>[{'id': 'https://openalex.org/C93877712', 'wik...</td>\n",
       "      <td>[]</td>\n",
       "      <td>[{'id': None, 'display_name': None, 'type': 'j...</td>\n",
       "      <td>[]</td>\n",
       "      <td>[]</td>\n",
       "      <td>None</td>\n",
       "      <td>https://api.openalex.org/works?filter=cites:W4...</td>\n",
       "      <td>[]</td>\n",
       "      <td>2022-05-17</td>\n",
       "      <td>2022-05-11</td>\n",
       "    </tr>\n",
       "    <tr>\n",
       "      <th>17</th>\n",
       "      <td>https://openalex.org/W4231885319</td>\n",
       "      <td>https://doi.org/10.3410/f.732320189.793555481</td>\n",
       "      <td>Faculty Opinions recommendation of Biotinylati...</td>\n",
       "      <td>Faculty Opinions recommendation of Biotinylati...</td>\n",
       "      <td>2019</td>\n",
       "      <td>2019-01-22</td>\n",
       "      <td>{'openalex': 'https://openalex.org/W4231885319...</td>\n",
       "      <td>{'id': None, 'issn_l': None, 'issn': None, 'di...</td>\n",
       "      <td>dataset</td>\n",
       "      <td>{'is_oa': True, 'oa_status': 'bronze', 'oa_url...</td>\n",
       "      <td>...</td>\n",
       "      <td>[{'id': 'https://openalex.org/C204628709', 'wi...</td>\n",
       "      <td>[]</td>\n",
       "      <td>[{'id': None, 'display_name': None, 'type': 'j...</td>\n",
       "      <td>[]</td>\n",
       "      <td>[https://openalex.org/W5621644, https://openal...</td>\n",
       "      <td>None</td>\n",
       "      <td>https://api.openalex.org/works?filter=cites:W4...</td>\n",
       "      <td>[]</td>\n",
       "      <td>2022-06-11</td>\n",
       "      <td>2022-05-12</td>\n",
       "    </tr>\n",
       "    <tr>\n",
       "      <th>18</th>\n",
       "      <td>https://openalex.org/W4231969112</td>\n",
       "      <td>https://doi.org/10.3410/f.731428500.793555484</td>\n",
       "      <td>Faculty Opinions recommendation of Optimizing ...</td>\n",
       "      <td>Faculty Opinions recommendation of Optimizing ...</td>\n",
       "      <td>2019</td>\n",
       "      <td>2019-01-22</td>\n",
       "      <td>{'openalex': 'https://openalex.org/W4231969112...</td>\n",
       "      <td>{'id': None, 'issn_l': None, 'issn': None, 'di...</td>\n",
       "      <td>dataset</td>\n",
       "      <td>{'is_oa': True, 'oa_status': 'bronze', 'oa_url...</td>\n",
       "      <td>...</td>\n",
       "      <td>[{'id': 'https://openalex.org/C2776235265', 'w...</td>\n",
       "      <td>[]</td>\n",
       "      <td>[{'id': None, 'display_name': None, 'type': 'j...</td>\n",
       "      <td>[]</td>\n",
       "      <td>[]</td>\n",
       "      <td>None</td>\n",
       "      <td>https://api.openalex.org/works?filter=cites:W4...</td>\n",
       "      <td>[]</td>\n",
       "      <td>2022-05-19</td>\n",
       "      <td>2022-05-12</td>\n",
       "    </tr>\n",
       "    <tr>\n",
       "      <th>19</th>\n",
       "      <td>https://openalex.org/W4235210721</td>\n",
       "      <td>https://doi.org/10.3410/f.727483654.793555476</td>\n",
       "      <td>Faculty Opinions recommendation of An approach...</td>\n",
       "      <td>Faculty Opinions recommendation of An approach...</td>\n",
       "      <td>2019</td>\n",
       "      <td>2019-01-22</td>\n",
       "      <td>{'openalex': 'https://openalex.org/W4235210721...</td>\n",
       "      <td>{'id': None, 'issn_l': None, 'issn': None, 'di...</td>\n",
       "      <td>dataset</td>\n",
       "      <td>{'is_oa': True, 'oa_status': 'bronze', 'oa_url...</td>\n",
       "      <td>...</td>\n",
       "      <td>[{'id': 'https://openalex.org/C2522767166', 'w...</td>\n",
       "      <td>[]</td>\n",
       "      <td>[{'id': None, 'display_name': None, 'type': 'j...</td>\n",
       "      <td>[]</td>\n",
       "      <td>[]</td>\n",
       "      <td>None</td>\n",
       "      <td>https://api.openalex.org/works?filter=cites:W4...</td>\n",
       "      <td>[]</td>\n",
       "      <td>2022-05-15</td>\n",
       "      <td>2022-05-12</td>\n",
       "    </tr>\n",
       "    <tr>\n",
       "      <th>20</th>\n",
       "      <td>https://openalex.org/W4235868952</td>\n",
       "      <td>https://doi.org/10.3410/f.733174602.793555496</td>\n",
       "      <td>Faculty Opinions recommendation of Discovery o...</td>\n",
       "      <td>Faculty Opinions recommendation of Discovery o...</td>\n",
       "      <td>2019</td>\n",
       "      <td>2019-01-22</td>\n",
       "      <td>{'openalex': 'https://openalex.org/W4235868952...</td>\n",
       "      <td>{'id': None, 'issn_l': None, 'issn': None, 'di...</td>\n",
       "      <td>dataset</td>\n",
       "      <td>{'is_oa': True, 'oa_status': 'bronze', 'oa_url...</td>\n",
       "      <td>...</td>\n",
       "      <td>[{'id': 'https://openalex.org/C84597430', 'wik...</td>\n",
       "      <td>[]</td>\n",
       "      <td>[{'id': None, 'display_name': None, 'type': 'j...</td>\n",
       "      <td>[]</td>\n",
       "      <td>[]</td>\n",
       "      <td>None</td>\n",
       "      <td>https://api.openalex.org/works?filter=cites:W4...</td>\n",
       "      <td>[]</td>\n",
       "      <td>2022-05-18</td>\n",
       "      <td>2022-05-12</td>\n",
       "    </tr>\n",
       "    <tr>\n",
       "      <th>21</th>\n",
       "      <td>https://openalex.org/W4236327707</td>\n",
       "      <td>https://doi.org/10.3410/f.732570153.793555474</td>\n",
       "      <td>Faculty Opinions recommendation of High-Densit...</td>\n",
       "      <td>Faculty Opinions recommendation of High-Densit...</td>\n",
       "      <td>2019</td>\n",
       "      <td>2019-01-22</td>\n",
       "      <td>{'openalex': 'https://openalex.org/W4236327707...</td>\n",
       "      <td>{'id': None, 'issn_l': None, 'issn': None, 'di...</td>\n",
       "      <td>dataset</td>\n",
       "      <td>{'is_oa': False, 'oa_status': 'closed', 'oa_ur...</td>\n",
       "      <td>...</td>\n",
       "      <td>[{'id': 'https://openalex.org/C105580179', 'wi...</td>\n",
       "      <td>[]</td>\n",
       "      <td>[]</td>\n",
       "      <td>[]</td>\n",
       "      <td>[]</td>\n",
       "      <td>None</td>\n",
       "      <td>https://api.openalex.org/works?filter=cites:W4...</td>\n",
       "      <td>[]</td>\n",
       "      <td>2022-05-15</td>\n",
       "      <td>2022-05-12</td>\n",
       "    </tr>\n",
       "    <tr>\n",
       "      <th>22</th>\n",
       "      <td>https://openalex.org/W4238142065</td>\n",
       "      <td>https://doi.org/10.3410/f.727486309.793555477</td>\n",
       "      <td>Faculty Opinions recommendation of Multidimens...</td>\n",
       "      <td>Faculty Opinions recommendation of Multidimens...</td>\n",
       "      <td>2019</td>\n",
       "      <td>2019-01-22</td>\n",
       "      <td>{'openalex': 'https://openalex.org/W4238142065...</td>\n",
       "      <td>{'id': None, 'issn_l': None, 'issn': None, 'di...</td>\n",
       "      <td>dataset</td>\n",
       "      <td>{'is_oa': True, 'oa_status': 'bronze', 'oa_url...</td>\n",
       "      <td>...</td>\n",
       "      <td>[{'id': 'https://openalex.org/C2775936607', 'w...</td>\n",
       "      <td>[]</td>\n",
       "      <td>[{'id': None, 'display_name': None, 'type': 'j...</td>\n",
       "      <td>[]</td>\n",
       "      <td>[]</td>\n",
       "      <td>None</td>\n",
       "      <td>https://api.openalex.org/works?filter=cites:W4...</td>\n",
       "      <td>[]</td>\n",
       "      <td>2022-05-16</td>\n",
       "      <td>2022-05-12</td>\n",
       "    </tr>\n",
       "    <tr>\n",
       "      <th>23</th>\n",
       "      <td>https://openalex.org/W4239220539</td>\n",
       "      <td>https://doi.org/10.3410/f.726737760.793555485</td>\n",
       "      <td>Faculty Opinions recommendation of Direct prox...</td>\n",
       "      <td>Faculty Opinions recommendation of Direct prox...</td>\n",
       "      <td>2019</td>\n",
       "      <td>2019-01-22</td>\n",
       "      <td>{'openalex': 'https://openalex.org/W4239220539...</td>\n",
       "      <td>{'id': None, 'issn_l': None, 'issn': None, 'di...</td>\n",
       "      <td>dataset</td>\n",
       "      <td>{'is_oa': True, 'oa_status': 'bronze', 'oa_url...</td>\n",
       "      <td>...</td>\n",
       "      <td>[{'id': 'https://openalex.org/C2779231659', 'w...</td>\n",
       "      <td>[]</td>\n",
       "      <td>[{'id': None, 'display_name': None, 'type': 'j...</td>\n",
       "      <td>[]</td>\n",
       "      <td>[]</td>\n",
       "      <td>None</td>\n",
       "      <td>https://api.openalex.org/works?filter=cites:W4...</td>\n",
       "      <td>[]</td>\n",
       "      <td>2022-05-19</td>\n",
       "      <td>2022-05-12</td>\n",
       "    </tr>\n",
       "    <tr>\n",
       "      <th>24</th>\n",
       "      <td>https://openalex.org/W4240669453</td>\n",
       "      <td>https://doi.org/10.3410/f.733174490.793555495</td>\n",
       "      <td>Faculty Opinions recommendation of C-BERST: de...</td>\n",
       "      <td>Faculty Opinions recommendation of C-BERST: de...</td>\n",
       "      <td>2019</td>\n",
       "      <td>2019-01-22</td>\n",
       "      <td>{'openalex': 'https://openalex.org/W4240669453...</td>\n",
       "      <td>{'id': None, 'issn_l': None, 'issn': None, 'di...</td>\n",
       "      <td>dataset</td>\n",
       "      <td>{'is_oa': False, 'oa_status': 'closed', 'oa_ur...</td>\n",
       "      <td>...</td>\n",
       "      <td>[{'id': 'https://openalex.org/C70721500', 'wik...</td>\n",
       "      <td>[]</td>\n",
       "      <td>[]</td>\n",
       "      <td>[]</td>\n",
       "      <td>[]</td>\n",
       "      <td>None</td>\n",
       "      <td>https://api.openalex.org/works?filter=cites:W4...</td>\n",
       "      <td>[]</td>\n",
       "      <td>2022-05-17</td>\n",
       "      <td>2022-05-12</td>\n",
       "    </tr>\n",
       "  </tbody>\n",
       "</table>\n",
       "<p>25 rows × 25 columns</p>\n",
       "</div>"
      ],
      "text/plain": [
       "                                  id  \\\n",
       "0   https://openalex.org/W4282596494   \n",
       "1   https://openalex.org/W4282586198   \n",
       "2   https://openalex.org/W4281697367   \n",
       "3   https://openalex.org/W4213334749   \n",
       "4   https://openalex.org/W4200377130   \n",
       "5   https://openalex.org/W4240613015   \n",
       "6   https://openalex.org/W4206100425   \n",
       "7   https://openalex.org/W4255970389   \n",
       "8   https://openalex.org/W4250041006   \n",
       "9   https://openalex.org/W4249084334   \n",
       "10  https://openalex.org/W4243467520   \n",
       "11  https://openalex.org/W4234626755   \n",
       "12  https://openalex.org/W4243394005   \n",
       "13  https://openalex.org/W4237721077   \n",
       "14  https://openalex.org/W4239265442   \n",
       "15  https://openalex.org/W4247652418   \n",
       "16  https://openalex.org/W4230128624   \n",
       "17  https://openalex.org/W4231885319   \n",
       "18  https://openalex.org/W4231969112   \n",
       "19  https://openalex.org/W4235210721   \n",
       "20  https://openalex.org/W4235868952   \n",
       "21  https://openalex.org/W4236327707   \n",
       "22  https://openalex.org/W4238142065   \n",
       "23  https://openalex.org/W4239220539   \n",
       "24  https://openalex.org/W4240669453   \n",
       "\n",
       "                                               doi  \\\n",
       "0    https://doi.org/10.3410/f.741447712.793593412   \n",
       "1    https://doi.org/10.3410/f.740369599.793593401   \n",
       "2    https://doi.org/10.3410/f.741567026.793593353   \n",
       "3    https://doi.org/10.3410/f.740214753.793589030   \n",
       "4    https://doi.org/10.3410/f.740660418.793588437   \n",
       "5    https://doi.org/10.3410/f.738410814.793583926   \n",
       "6    https://doi.org/10.3410/f.739167107.793583793   \n",
       "7    https://doi.org/10.3410/f.737243078.793581504   \n",
       "8    https://doi.org/10.3410/f.738284022.793578688   \n",
       "9    https://doi.org/10.3410/f.738593201.793578194   \n",
       "10   https://doi.org/10.3410/f.738390176.793577942   \n",
       "11   https://doi.org/10.3410/f.735525403.793572989   \n",
       "12   https://doi.org/10.3410/f.736670120.793572990   \n",
       "13  https://doi.org/10.22541/au.158195476.67777188   \n",
       "14   https://doi.org/10.3410/f.736666610.793565724   \n",
       "15   https://doi.org/10.3410/f.733610121.793563032   \n",
       "16   https://doi.org/10.3410/f.725251622.793555475   \n",
       "17   https://doi.org/10.3410/f.732320189.793555481   \n",
       "18   https://doi.org/10.3410/f.731428500.793555484   \n",
       "19   https://doi.org/10.3410/f.727483654.793555476   \n",
       "20   https://doi.org/10.3410/f.733174602.793555496   \n",
       "21   https://doi.org/10.3410/f.732570153.793555474   \n",
       "22   https://doi.org/10.3410/f.727486309.793555477   \n",
       "23   https://doi.org/10.3410/f.726737760.793555485   \n",
       "24   https://doi.org/10.3410/f.733174490.793555495   \n",
       "\n",
       "                                                title  \\\n",
       "0   Faculty Opinions recommendation of Visualizing...   \n",
       "1   Faculty Opinions recommendation of Real-time m...   \n",
       "2   Faculty Opinions recommendation of Deep-tissue...   \n",
       "3   Faculty Opinions recommendation of A proximity...   \n",
       "4   Faculty Opinions recommendation of Off-the-she...   \n",
       "5   Faculty Opinions recommendation of Light micro...   \n",
       "6   Faculty Opinions recommendation of Click-ExM e...   \n",
       "7   Faculty Opinions recommendation of Experimenta...   \n",
       "8   Faculty Opinions recommendation of A genetic m...   \n",
       "9   Faculty Opinions recommendation of Chromosome ...   \n",
       "10  Faculty Opinions recommendation of Deep learni...   \n",
       "11  Faculty Opinions recommendation of Volumetric ...   \n",
       "12  Faculty Opinions recommendation of Multiplexed...   \n",
       "13           Engaging cultural humility diffractively   \n",
       "14  Faculty Opinions recommendation of Optical con...   \n",
       "15  Faculty Opinions recommendation of X10 expansi...   \n",
       "16  Faculty Opinions recommendation of Directed ev...   \n",
       "17  Faculty Opinions recommendation of Biotinylati...   \n",
       "18  Faculty Opinions recommendation of Optimizing ...   \n",
       "19  Faculty Opinions recommendation of An approach...   \n",
       "20  Faculty Opinions recommendation of Discovery o...   \n",
       "21  Faculty Opinions recommendation of High-Densit...   \n",
       "22  Faculty Opinions recommendation of Multidimens...   \n",
       "23  Faculty Opinions recommendation of Direct prox...   \n",
       "24  Faculty Opinions recommendation of C-BERST: de...   \n",
       "\n",
       "                                         display_name  publication_year  \\\n",
       "0   Faculty Opinions recommendation of Visualizing...              2022   \n",
       "1   Faculty Opinions recommendation of Real-time m...              2022   \n",
       "2   Faculty Opinions recommendation of Deep-tissue...              2022   \n",
       "3   Faculty Opinions recommendation of A proximity...              2021   \n",
       "4   Faculty Opinions recommendation of Off-the-she...              2021   \n",
       "5   Faculty Opinions recommendation of Light micro...              2021   \n",
       "6   Faculty Opinions recommendation of Click-ExM e...              2021   \n",
       "7   Faculty Opinions recommendation of Experimenta...              2020   \n",
       "8   Faculty Opinions recommendation of A genetic m...              2020   \n",
       "9   Faculty Opinions recommendation of Chromosome ...              2020   \n",
       "10  Faculty Opinions recommendation of Deep learni...              2020   \n",
       "11  Faculty Opinions recommendation of Volumetric ...              2020   \n",
       "12  Faculty Opinions recommendation of Multiplexed...              2020   \n",
       "13           Engaging cultural humility diffractively              2020   \n",
       "14  Faculty Opinions recommendation of Optical con...              2019   \n",
       "15  Faculty Opinions recommendation of X10 expansi...              2019   \n",
       "16  Faculty Opinions recommendation of Directed ev...              2019   \n",
       "17  Faculty Opinions recommendation of Biotinylati...              2019   \n",
       "18  Faculty Opinions recommendation of Optimizing ...              2019   \n",
       "19  Faculty Opinions recommendation of An approach...              2019   \n",
       "20  Faculty Opinions recommendation of Discovery o...              2019   \n",
       "21  Faculty Opinions recommendation of High-Densit...              2019   \n",
       "22  Faculty Opinions recommendation of Multidimens...              2019   \n",
       "23  Faculty Opinions recommendation of Direct prox...              2019   \n",
       "24  Faculty Opinions recommendation of C-BERST: de...              2019   \n",
       "\n",
       "   publication_date                                                ids  \\\n",
       "0        2022-06-01  {'openalex': 'https://openalex.org/W4282596494...   \n",
       "1        2022-05-31  {'openalex': 'https://openalex.org/W4282586198...   \n",
       "2        2022-05-30  {'openalex': 'https://openalex.org/W4281697367...   \n",
       "3        2021-10-22  {'openalex': 'https://openalex.org/W4213334749...   \n",
       "4        2021-09-07  {'openalex': 'https://openalex.org/W4200377130...   \n",
       "5        2021-03-18  {'openalex': 'https://openalex.org/W4240613015...   \n",
       "6        2021-03-15  {'openalex': 'https://openalex.org/W4206100425...   \n",
       "7        2020-12-29  {'openalex': 'https://openalex.org/W4255970389...   \n",
       "8        2020-09-23  {'openalex': 'https://openalex.org/W4250041006...   \n",
       "9        2020-09-04  {'openalex': 'https://openalex.org/W4249084334...   \n",
       "10       2020-08-26  {'openalex': 'https://openalex.org/W4243467520...   \n",
       "11       2020-04-01  {'openalex': 'https://openalex.org/W4234626755...   \n",
       "12       2020-04-01  {'openalex': 'https://openalex.org/W4243394005...   \n",
       "13       2020-02-17  {'openalex': 'https://openalex.org/W4237721077...   \n",
       "14       2019-10-03  {'openalex': 'https://openalex.org/W4239265442...   \n",
       "15       2019-07-23  {'openalex': 'https://openalex.org/W4247652418...   \n",
       "16       2019-01-22  {'openalex': 'https://openalex.org/W4230128624...   \n",
       "17       2019-01-22  {'openalex': 'https://openalex.org/W4231885319...   \n",
       "18       2019-01-22  {'openalex': 'https://openalex.org/W4231969112...   \n",
       "19       2019-01-22  {'openalex': 'https://openalex.org/W4235210721...   \n",
       "20       2019-01-22  {'openalex': 'https://openalex.org/W4235868952...   \n",
       "21       2019-01-22  {'openalex': 'https://openalex.org/W4236327707...   \n",
       "22       2019-01-22  {'openalex': 'https://openalex.org/W4238142065...   \n",
       "23       2019-01-22  {'openalex': 'https://openalex.org/W4239220539...   \n",
       "24       2019-01-22  {'openalex': 'https://openalex.org/W4240669453...   \n",
       "\n",
       "                                           host_venue     type  \\\n",
       "0   {'id': None, 'issn_l': None, 'issn': None, 'di...  dataset   \n",
       "1   {'id': None, 'issn_l': None, 'issn': None, 'di...  dataset   \n",
       "2   {'id': None, 'issn_l': None, 'issn': None, 'di...  dataset   \n",
       "3   {'id': None, 'issn_l': None, 'issn': None, 'di...  dataset   \n",
       "4   {'id': None, 'issn_l': None, 'issn': None, 'di...  dataset   \n",
       "5   {'id': None, 'issn_l': None, 'issn': None, 'di...  dataset   \n",
       "6   {'id': None, 'issn_l': None, 'issn': None, 'di...  dataset   \n",
       "7   {'id': None, 'issn_l': None, 'issn': None, 'di...  dataset   \n",
       "8   {'id': None, 'issn_l': None, 'issn': None, 'di...  dataset   \n",
       "9   {'id': None, 'issn_l': None, 'issn': None, 'di...  dataset   \n",
       "10  {'id': None, 'issn_l': None, 'issn': None, 'di...  dataset   \n",
       "11  {'id': None, 'issn_l': None, 'issn': None, 'di...  dataset   \n",
       "12  {'id': None, 'issn_l': None, 'issn': None, 'di...  dataset   \n",
       "13  {'id': None, 'issn_l': None, 'issn': None, 'di...  dataset   \n",
       "14  {'id': None, 'issn_l': None, 'issn': None, 'di...  dataset   \n",
       "15  {'id': None, 'issn_l': None, 'issn': None, 'di...  dataset   \n",
       "16  {'id': None, 'issn_l': None, 'issn': None, 'di...  dataset   \n",
       "17  {'id': None, 'issn_l': None, 'issn': None, 'di...  dataset   \n",
       "18  {'id': None, 'issn_l': None, 'issn': None, 'di...  dataset   \n",
       "19  {'id': None, 'issn_l': None, 'issn': None, 'di...  dataset   \n",
       "20  {'id': None, 'issn_l': None, 'issn': None, 'di...  dataset   \n",
       "21  {'id': None, 'issn_l': None, 'issn': None, 'di...  dataset   \n",
       "22  {'id': None, 'issn_l': None, 'issn': None, 'di...  dataset   \n",
       "23  {'id': None, 'issn_l': None, 'issn': None, 'di...  dataset   \n",
       "24  {'id': None, 'issn_l': None, 'issn': None, 'di...  dataset   \n",
       "\n",
       "                                          open_access  ...  \\\n",
       "0   {'is_oa': False, 'oa_status': 'closed', 'oa_ur...  ...   \n",
       "1   {'is_oa': False, 'oa_status': 'closed', 'oa_ur...  ...   \n",
       "2   {'is_oa': False, 'oa_status': 'closed', 'oa_ur...  ...   \n",
       "3   {'is_oa': False, 'oa_status': 'closed', 'oa_ur...  ...   \n",
       "4   {'is_oa': False, 'oa_status': 'closed', 'oa_ur...  ...   \n",
       "5   {'is_oa': True, 'oa_status': 'bronze', 'oa_url...  ...   \n",
       "6   {'is_oa': False, 'oa_status': 'closed', 'oa_ur...  ...   \n",
       "7   {'is_oa': False, 'oa_status': 'closed', 'oa_ur...  ...   \n",
       "8   {'is_oa': True, 'oa_status': 'bronze', 'oa_url...  ...   \n",
       "9   {'is_oa': False, 'oa_status': 'closed', 'oa_ur...  ...   \n",
       "10  {'is_oa': False, 'oa_status': 'closed', 'oa_ur...  ...   \n",
       "11  {'is_oa': False, 'oa_status': 'closed', 'oa_ur...  ...   \n",
       "12  {'is_oa': False, 'oa_status': 'closed', 'oa_ur...  ...   \n",
       "13  {'is_oa': False, 'oa_status': 'closed', 'oa_ur...  ...   \n",
       "14  {'is_oa': True, 'oa_status': 'bronze', 'oa_url...  ...   \n",
       "15  {'is_oa': True, 'oa_status': 'hybrid', 'oa_url...  ...   \n",
       "16  {'is_oa': True, 'oa_status': 'bronze', 'oa_url...  ...   \n",
       "17  {'is_oa': True, 'oa_status': 'bronze', 'oa_url...  ...   \n",
       "18  {'is_oa': True, 'oa_status': 'bronze', 'oa_url...  ...   \n",
       "19  {'is_oa': True, 'oa_status': 'bronze', 'oa_url...  ...   \n",
       "20  {'is_oa': True, 'oa_status': 'bronze', 'oa_url...  ...   \n",
       "21  {'is_oa': False, 'oa_status': 'closed', 'oa_ur...  ...   \n",
       "22  {'is_oa': True, 'oa_status': 'bronze', 'oa_url...  ...   \n",
       "23  {'is_oa': True, 'oa_status': 'bronze', 'oa_url...  ...   \n",
       "24  {'is_oa': False, 'oa_status': 'closed', 'oa_ur...  ...   \n",
       "\n",
       "                                             concepts  mesh  \\\n",
       "0   [{'id': 'https://openalex.org/C7869135', 'wiki...    []   \n",
       "1   [{'id': 'https://openalex.org/C57493831', 'wik...    []   \n",
       "2   [{'id': 'https://openalex.org/C2776878037', 'w...    []   \n",
       "3   [{'id': 'https://openalex.org/C204628709', 'wi...    []   \n",
       "4   [{'id': 'https://openalex.org/C204628709', 'wi...    []   \n",
       "5   [{'id': 'https://openalex.org/C87555872', 'wik...    []   \n",
       "6   [{'id': 'https://openalex.org/C49853544', 'wik...    []   \n",
       "7   [{'id': 'https://openalex.org/C2777093003', 'w...    []   \n",
       "8   [{'id': 'https://openalex.org/C143425029', 'wi...    []   \n",
       "9   [{'id': 'https://openalex.org/C73555534', 'wik...    []   \n",
       "10  [{'id': 'https://openalex.org/C41008148', 'wik...    []   \n",
       "11  [{'id': 'https://openalex.org/C147080431', 'wi...    []   \n",
       "12  [{'id': 'https://openalex.org/C19275194', 'wik...    []   \n",
       "13  [{'id': 'https://openalex.org/C2778456462', 'w...    []   \n",
       "14  [{'id': 'https://openalex.org/C178666793', 'wi...    []   \n",
       "15  [{'id': 'https://openalex.org/C67649825', 'wik...    []   \n",
       "16  [{'id': 'https://openalex.org/C93877712', 'wik...    []   \n",
       "17  [{'id': 'https://openalex.org/C204628709', 'wi...    []   \n",
       "18  [{'id': 'https://openalex.org/C2776235265', 'w...    []   \n",
       "19  [{'id': 'https://openalex.org/C2522767166', 'w...    []   \n",
       "20  [{'id': 'https://openalex.org/C84597430', 'wik...    []   \n",
       "21  [{'id': 'https://openalex.org/C105580179', 'wi...    []   \n",
       "22  [{'id': 'https://openalex.org/C2775936607', 'w...    []   \n",
       "23  [{'id': 'https://openalex.org/C2779231659', 'w...    []   \n",
       "24  [{'id': 'https://openalex.org/C70721500', 'wik...    []   \n",
       "\n",
       "                                alternate_host_venues  referenced_works  \\\n",
       "0                                                  []                []   \n",
       "1                                                  []                []   \n",
       "2                                                  []                []   \n",
       "3                                                  []                []   \n",
       "4                                                  []                []   \n",
       "5   [{'id': None, 'display_name': None, 'type': 'j...                []   \n",
       "6                                                  []                []   \n",
       "7                                                  []                []   \n",
       "8   [{'id': None, 'display_name': None, 'type': 'j...                []   \n",
       "9                                                  []                []   \n",
       "10                                                 []                []   \n",
       "11                                                 []                []   \n",
       "12                                                 []                []   \n",
       "13                                                 []                []   \n",
       "14  [{'id': None, 'display_name': None, 'type': 'j...                []   \n",
       "15  [{'id': None, 'display_name': None, 'type': 'j...                []   \n",
       "16  [{'id': None, 'display_name': None, 'type': 'j...                []   \n",
       "17  [{'id': None, 'display_name': None, 'type': 'j...                []   \n",
       "18  [{'id': None, 'display_name': None, 'type': 'j...                []   \n",
       "19  [{'id': None, 'display_name': None, 'type': 'j...                []   \n",
       "20  [{'id': None, 'display_name': None, 'type': 'j...                []   \n",
       "21                                                 []                []   \n",
       "22  [{'id': None, 'display_name': None, 'type': 'j...                []   \n",
       "23  [{'id': None, 'display_name': None, 'type': 'j...                []   \n",
       "24                                                 []                []   \n",
       "\n",
       "                                        related_works abstract_inverted_index  \\\n",
       "0   [https://openalex.org/W652432, https://openale...                    None   \n",
       "1   [https://openalex.org/W2530218, https://openal...                    None   \n",
       "2   [https://openalex.org/W33997623, https://opena...                    None   \n",
       "3   [https://openalex.org/W8276572, https://openal...                    None   \n",
       "4   [https://openalex.org/W12162644, https://opena...                    None   \n",
       "5   [https://openalex.org/W11664375, https://opena...                    None   \n",
       "6   [https://openalex.org/W8270136, https://openal...                    None   \n",
       "7   [https://openalex.org/W8897, https://openalex....                    None   \n",
       "8   [https://openalex.org/W1452304, https://openal...                    None   \n",
       "9   [https://openalex.org/W760385, https://openale...                    None   \n",
       "10  [https://openalex.org/W5092906, https://openal...                    None   \n",
       "11  [https://openalex.org/W1037215, https://openal...                    None   \n",
       "12  [https://openalex.org/W4023941, https://openal...                    None   \n",
       "13  [https://openalex.org/W1040294, https://openal...                    None   \n",
       "14                                                 []                    None   \n",
       "15                                                 []                    None   \n",
       "16                                                 []                    None   \n",
       "17  [https://openalex.org/W5621644, https://openal...                    None   \n",
       "18                                                 []                    None   \n",
       "19                                                 []                    None   \n",
       "20                                                 []                    None   \n",
       "21                                                 []                    None   \n",
       "22                                                 []                    None   \n",
       "23                                                 []                    None   \n",
       "24                                                 []                    None   \n",
       "\n",
       "                                     cited_by_api_url counts_by_year  \\\n",
       "0   https://api.openalex.org/works?filter=cites:W4...             []   \n",
       "1   https://api.openalex.org/works?filter=cites:W4...             []   \n",
       "2   https://api.openalex.org/works?filter=cites:W4...             []   \n",
       "3   https://api.openalex.org/works?filter=cites:W4...             []   \n",
       "4   https://api.openalex.org/works?filter=cites:W4...             []   \n",
       "5   https://api.openalex.org/works?filter=cites:W4...             []   \n",
       "6   https://api.openalex.org/works?filter=cites:W4...             []   \n",
       "7   https://api.openalex.org/works?filter=cites:W4...             []   \n",
       "8   https://api.openalex.org/works?filter=cites:W4...             []   \n",
       "9   https://api.openalex.org/works?filter=cites:W4...             []   \n",
       "10  https://api.openalex.org/works?filter=cites:W4...             []   \n",
       "11  https://api.openalex.org/works?filter=cites:W4...             []   \n",
       "12  https://api.openalex.org/works?filter=cites:W4...             []   \n",
       "13  https://api.openalex.org/works?filter=cites:W4...             []   \n",
       "14  https://api.openalex.org/works?filter=cites:W4...             []   \n",
       "15  https://api.openalex.org/works?filter=cites:W4...             []   \n",
       "16  https://api.openalex.org/works?filter=cites:W4...             []   \n",
       "17  https://api.openalex.org/works?filter=cites:W4...             []   \n",
       "18  https://api.openalex.org/works?filter=cites:W4...             []   \n",
       "19  https://api.openalex.org/works?filter=cites:W4...             []   \n",
       "20  https://api.openalex.org/works?filter=cites:W4...             []   \n",
       "21  https://api.openalex.org/works?filter=cites:W4...             []   \n",
       "22  https://api.openalex.org/works?filter=cites:W4...             []   \n",
       "23  https://api.openalex.org/works?filter=cites:W4...             []   \n",
       "24  https://api.openalex.org/works?filter=cites:W4...             []   \n",
       "\n",
       "                  updated_date created_date  \n",
       "0   2022-07-08T14:37:48.634306   2022-06-14  \n",
       "1   2022-07-08T15:14:39.350626   2022-06-14  \n",
       "2   2022-07-08T14:44:17.308543   2022-06-13  \n",
       "3   2022-07-19T03:57:10.098613   2022-02-24  \n",
       "4   2022-07-21T12:28:48.211576   2021-12-31  \n",
       "5   2022-07-23T23:34:05.420654   2022-05-12  \n",
       "6   2022-07-24T00:08:05.194287   2022-01-26  \n",
       "7   2022-07-26T06:35:18.839124   2022-05-12  \n",
       "8   2022-07-29T16:59:55.098324   2022-05-12  \n",
       "9   2022-07-29T19:30:17.964862   2022-05-12  \n",
       "10  2022-07-17T08:05:35.211990   2022-05-12  \n",
       "11  2022-07-31T13:11:11.807143   2022-05-12  \n",
       "12  2022-07-18T01:47:44.632812   2022-05-12  \n",
       "13  2022-07-18T07:44:25.859586   2022-05-12  \n",
       "14                  2022-05-17   2022-05-12  \n",
       "15                  2022-05-20   2022-05-12  \n",
       "16                  2022-05-17   2022-05-11  \n",
       "17                  2022-06-11   2022-05-12  \n",
       "18                  2022-05-19   2022-05-12  \n",
       "19                  2022-05-15   2022-05-12  \n",
       "20                  2022-05-18   2022-05-12  \n",
       "21                  2022-05-15   2022-05-12  \n",
       "22                  2022-05-16   2022-05-12  \n",
       "23                  2022-05-19   2022-05-12  \n",
       "24                  2022-05-17   2022-05-12  \n",
       "\n",
       "[25 rows x 25 columns]"
      ]
     },
     "execution_count": 39,
     "metadata": {},
     "output_type": "execute_result"
    }
   ],
   "source": [
    "df"
   ]
  },
  {
   "cell_type": "markdown",
   "id": "dfc3fe48",
   "metadata": {},
   "source": [
    "Randomly interrogating some DOIs, we see\n",
    "The DOI:10.3410/f.740369599.793593401, was a DOI registered by Crossref and visiting the publisher, seems to in fact be a journal-article. \n",
    "\n",
    "The DOI:0.22541/au.158195476.67777188, another DOI registered by Crossref, and the work is in fact \"This is a preprint and has not been peer reviewed.\" (Not found in DataCite Commons)\n",
    "\n",
    "The DOI:10.3410/f.733174490.793555495, again registered by Crossref, is a journal-article and again not retrievable in DataCite Commons.\n",
    "\n",
    "Conversly, let's see if we can retrieve a DOI found in DataCite in OpenAlex:\n",
    "\"https://doi.org/10.5061/dryad.gr43t\n",
    "Data from: Analysis of inbreeding depression in mixed-mating plants provides evidence for selective interference and stable mixed mating\n",
    "Alice A Winn, Elizabeth Elle, Susan Kalisz, Pierre-Olivier Cheptou, Christopher G Eckert, Carol Goodwillie, Mark O. Johnston, David A Moeller, Richard H Ree, Risa D Sargent & Mario Vallejo-Marín\n",
    "Version 2 of Dataset published 2015 in DRYAD\""
   ]
  },
  {
   "cell_type": "code",
   "execution_count": 40,
   "id": "0f19f3d9",
   "metadata": {},
   "outputs": [
    {
     "name": "stdout",
     "output_type": "stream",
     "text": [
      "0\n"
     ]
    }
   ],
   "source": [
    "response_meta = requests.get(\n",
    "    'https://api.openalex.org/works?filter=doi:https://doi.org/10.5061/dryad.gr43t'\n",
    ").json()['meta']\n",
    "\n",
    "print(response_meta['count'])"
   ]
  },
  {
   "cell_type": "markdown",
   "id": "ece68232",
   "metadata": {},
   "source": [
    "## Conclusions\n",
    "\n",
    "\"OpenAlex is a fully open catalog of the global research system\" (OpenAlex documentation), however as our preliminary exploration of OpenAlex metadata related to the work type \"dataset\" shows, the results are poor. We see that often the Type is missattributed to Dataset when in fact it is a different form of scholarly output (e.g. journal-articles; preprints). What's more, preliminary review of the license metadata associated with type Dataset is limited (often null).  FAIR data principles advocate that data are released with a clear and accessible data usage license.  DataCite commons presents more accurately the license attributed to datasets.  \n",
    "\n",
    "It is important to note, that for the results returned in DataCite Commons (filtered at least for the institution University of Ottawa), the identified \"registration agency\" was DataCite. Whereas in our results returned from the OpenAlex API, the registration agency for the DOIs affiliated with work type \"Datasets\" seemed to predominantly be CrossRef.  \n",
    "\n",
    "As noted in the OpenAlex Documentation, the field \"Type\" uses Crossref's \"type\" controlled vocabulary. When no type is defined, OpenAlex assigns a type themselves. As noted in the OpenAlex documentation \"unfortunately the accuracy of Crossref's data for this isn't great, and ours isn't much better.\" Crossref and Datacite have engaged in a joint effort to expose links to DOIs minted by CrossRef or DataCite, known as Event Data (https://www.crossref.org/services/event-data/). Would be interesting to see this event data accessible via OpenAlex in order to disambiguate datasets with links to DataCite registered content.\n",
    "\n",
    "For institutions interested in monitoring progress towards research data sharing, at this time it is recommended to use DataCite's APIs rather than OpenAlex.  "
   ]
  }
 ],
 "metadata": {
  "kernelspec": {
   "display_name": "Python 3 (ipykernel)",
   "language": "python",
   "name": "python3"
  },
  "language_info": {
   "codemirror_mode": {
    "name": "ipython",
    "version": 3
   },
   "file_extension": ".py",
   "mimetype": "text/x-python",
   "name": "python",
   "nbconvert_exporter": "python",
   "pygments_lexer": "ipython3",
   "version": "3.9.12"
  },
  "latex_envs": {
   "LaTeX_envs_menu_present": true,
   "autoclose": false,
   "autocomplete": true,
   "bibliofile": "biblio.bib",
   "cite_by": "apalike",
   "current_citInitial": 1,
   "eqLabelWithNumbers": true,
   "eqNumInitial": 1,
   "hotkeys": {
    "equation": "Ctrl-E",
    "itemize": "Ctrl-I"
   },
   "labels_anchors": false,
   "latex_user_defs": false,
   "report_style_numbering": false,
   "user_envs_cfg": false
  },
  "toc": {
   "base_numbering": 1,
   "nav_menu": {},
   "number_sections": true,
   "sideBar": true,
   "skip_h1_title": false,
   "title_cell": "Table of Contents",
   "title_sidebar": "Contents",
   "toc_cell": false,
   "toc_position": {},
   "toc_section_display": true,
   "toc_window_display": false
  }
 },
 "nbformat": 4,
 "nbformat_minor": 5
}
