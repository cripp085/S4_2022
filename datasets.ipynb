{
 "cells": [
  {
   "cell_type": "markdown",
   "id": "e141e5ff-f69d-4563-a556-ce1e746aef14",
   "metadata": {},
   "source": [
    "# Datasets for a given institution\n",
    "\n",
    "<div style='background:#e7edf7'>\n",
    "   Query the OpenAlex API to answer the question:\n",
    "    <blockquote>\n",
    "        <b><i>How many of datasets exist from a given institution</i></b>\n",
    "    </blockquote>\n",
    "</div>\n",
    "<br>"
   ]
  },
  {
   "cell_type": "code",
   "execution_count": 2,
   "id": "d32c79e8",
   "metadata": {},
   "outputs": [],
   "source": [
    "import pandas as pd\n",
    "import numpy as np\n",
    "import requests    # module for executing API calls"
   ]
  },
  {
   "cell_type": "markdown",
   "id": "f7216c04-3575-4d14-a4ed-5bb66401f5e4",
   "metadata": {},
   "source": [
    "## 1. Get datasets from Environment and Climate Change Canada.\n",
    "The first step in querying OpenAlex is always to build the URL to get exactly the data we need. We need to ask two things:\n",
    "1. About which entity type (author, concept, institution, venue, work) do we want data?  \n",
    " --> Since we want to query for metadata about \"_datasets_\", the entity type should be `works`.\n",
    "\n",
    "2. What are the criteria the works need to fulfill to fit our purpose?  \n",
    "    --> We want to query for \"_datasets from Environment and Climate Change Canada_\", so we will filter for the works that:\n",
    "    * were published in the last 10 years (=recent):  \n",
    "    `from_publication_date:2012-07-20`\n",
    "    * are specified as datasets:   \n",
    "    `type:Dataset`,\n",
    "    * have at least one [authorship](https://docs.openalex.org/about-the-data/work#authorships) affiliation with Environment and Climate Change Canada:  \n",
    "   `institutions.ror:https://ror.org/026ny0e17`,\n",
    "    * are not [paratext](https://docs.openalex.org/about-the-data/work#is_paratext):  \n",
    "   `is_paratext:false`,\n",
    "\n",
    "Now we need to put the URL together from these parts as follows:  \n",
    "* Starting with the base URL \"`https://api.openalex.org/`\", we add the entity type to it : \"`https://api.openalex.org/works`\"\n",
    "* All criteria need to go into the query parameter `filter` that is added after a question mark: \"`https://api.openalex.org/works?filter=`\"\n",
    "* Finally we take the criteria we specified before and concatenate them using commas as separators. This will be our `filter` value: \"`https://api.openalex.org/works?filter=institutions.ror:https://ror.org/025r5qe02,type:Dataset,from_publication_date:2012-07-20,is_paratext:false`\"\n",
    "\n",
    "With this URL we can get all recent datasets from Environment and Climate Change Canada."
   ]
  },
  {
   "cell_type": "code",
   "execution_count": 3,
   "id": "98345207-4fa0-4799-ba03-5179491adbda",
   "metadata": {},
   "outputs": [
    {
     "name": "stdout",
     "output_type": "stream",
     "text": [
      "filter query parameter:\n",
      "  filter=institutions.ror:https://ror.org/026ny0e17,is_paratext:false,type:Dataset,from_publication_date:2012-07-20\n",
      "complete URL:\n",
      "  https://api.openalex.org/works?filter=institutions.ror:https://ror.org/026ny0e17,is_paratext:false,type:Dataset,from_publication_date:2012-07-20 ...\n"
     ]
    }
   ],
   "source": [
    "# build the 'filter' parameter\n",
    "filter_by_institution_id = 'institutions.ror:https://ror.org/026ny0e17'\n",
    "filter_by_paratext = 'is_paratext:false'\n",
    "filter_by_type = 'type:Dataset'\n",
    "filter_by_publication_date = 'from_publication_date:2012-07-20'\n",
    "\n",
    "all_filters = (filter_by_institution_id, filter_by_paratext, filter_by_type, filter_by_publication_date)\n",
    "filter_param = f'filter={\",\".join(all_filters)}'\n",
    "print(f'filter query parameter:\\n  {filter_param}')\n",
    "\n",
    "# put the URL together\n",
    "filtered_works_url = f'https://api.openalex.org/works?{filter_param}'\n",
    "print(f'complete URL:\\n  {filtered_works_url} ...')"
   ]
  },
  {
   "cell_type": "code",
   "execution_count": 4,
   "id": "143a4ada",
   "metadata": {},
   "outputs": [
    {
     "data": {
      "text/plain": [
       "<Response [200]>"
      ]
     },
     "execution_count": 4,
     "metadata": {},
     "output_type": "execute_result"
    }
   ],
   "source": [
    "api_response = requests.get(filtered_works_url)\n",
    "api_response"
   ]
  },
  {
   "cell_type": "code",
   "execution_count": 5,
   "id": "daa544c6",
   "metadata": {},
   "outputs": [],
   "source": [
    "parsed_response = api_response.json()\n",
    "#parsed_response   # uncomment to see the full (long) data"
   ]
  },
  {
   "cell_type": "code",
   "execution_count": 6,
   "id": "78761eca",
   "metadata": {},
   "outputs": [
    {
     "data": {
      "text/plain": [
       "dict"
      ]
     },
     "execution_count": 6,
     "metadata": {},
     "output_type": "execute_result"
    }
   ],
   "source": [
    "type(parsed_response)"
   ]
  },
  {
   "cell_type": "code",
   "execution_count": 17,
   "id": "5f939ebb",
   "metadata": {},
   "outputs": [
    {
     "data": {
      "text/plain": [
       "'A framework for validating noninvasive genetic spatial capture-recapture studies for rare and elusive species'"
      ]
     },
     "execution_count": 17,
     "metadata": {},
     "output_type": "execute_result"
    }
   ],
   "source": [
    "# Title of the first returned dataset (remember Python starts at 0)\n",
    "parsed_response['results'][0]['title']"
   ]
  },
  {
   "cell_type": "code",
   "execution_count": 18,
   "id": "d96e6ad7",
   "metadata": {},
   "outputs": [
    {
     "data": {
      "text/plain": [
       "2020"
      ]
     },
     "execution_count": 18,
     "metadata": {},
     "output_type": "execute_result"
    }
   ],
   "source": [
    "# Pub year of first dataset\n",
    "parsed_response['results'][0]['publication_year']"
   ]
  },
  {
   "cell_type": "code",
   "execution_count": 8,
   "id": "a77781fe",
   "metadata": {},
   "outputs": [
    {
     "data": {
      "text/plain": [
       "{'id': None,\n",
       " 'issn_l': None,\n",
       " 'issn': None,\n",
       " 'display_name': 'Authorea',\n",
       " 'publisher': None,\n",
       " 'type': 'publisher',\n",
       " 'url': 'https://doi.org/10.22541/au.158636346.65395646',\n",
       " 'is_oa': True,\n",
       " 'version': 'publishedVersion',\n",
       " 'license': 'cc-by'}"
      ]
     },
     "execution_count": 8,
     "metadata": {},
     "output_type": "execute_result"
    }
   ],
   "source": [
    "# Host venue of the first dataset\n",
    "parsed_response['results'][0]['host_venue']"
   ]
  },
  {
   "cell_type": "code",
   "execution_count": 9,
   "id": "8b361bb1",
   "metadata": {},
   "outputs": [
    {
     "data": {
      "text/plain": [
       "0"
      ]
     },
     "execution_count": 9,
     "metadata": {},
     "output_type": "execute_result"
    }
   ],
   "source": [
    "# Let's check if this work was cited\n",
    "parsed_response['results'][0]['cited_by_count']"
   ]
  },
  {
   "cell_type": "code",
   "execution_count": null,
   "id": "1e3b1b27",
   "metadata": {},
   "outputs": [],
   "source": [
    "## Not sure this worked, when checking the URL DOI for the dataset returned, it brings to a publication. "
   ]
  }
 ],
 "metadata": {
  "kernelspec": {
   "display_name": "Python 3 (ipykernel)",
   "language": "python",
   "name": "python3"
  },
  "language_info": {
   "codemirror_mode": {
    "name": "ipython",
    "version": 3
   },
   "file_extension": ".py",
   "mimetype": "text/x-python",
   "name": "python",
   "nbconvert_exporter": "python",
   "pygments_lexer": "ipython3",
   "version": "3.9.12"
  },
  "latex_envs": {
   "LaTeX_envs_menu_present": true,
   "autoclose": false,
   "autocomplete": true,
   "bibliofile": "biblio.bib",
   "cite_by": "apalike",
   "current_citInitial": 1,
   "eqLabelWithNumbers": true,
   "eqNumInitial": 1,
   "hotkeys": {
    "equation": "Ctrl-E",
    "itemize": "Ctrl-I"
   },
   "labels_anchors": false,
   "latex_user_defs": false,
   "report_style_numbering": false,
   "user_envs_cfg": false
  },
  "toc": {
   "base_numbering": 1,
   "nav_menu": {},
   "number_sections": true,
   "sideBar": true,
   "skip_h1_title": false,
   "title_cell": "Table of Contents",
   "title_sidebar": "Contents",
   "toc_cell": false,
   "toc_position": {},
   "toc_section_display": true,
   "toc_window_display": false
  }
 },
 "nbformat": 4,
 "nbformat_minor": 5
}
